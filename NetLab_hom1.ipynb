{
  "cells": [
    {
      "cell_type": "markdown",
      "metadata": {
        "id": "SaPIP6dM4Qqm"
      },
      "source": [
        "# Homework 1\n"
      ]
    },
    {
      "cell_type": "markdown",
      "metadata": {
        "id": "f3-56lclCDTJ"
      },
      "source": [
        "## Installing libraries"
      ]
    },
    {
      "cell_type": "code",
      "execution_count": null,
      "metadata": {
        "id": "idRsrElE8RPC"
      },
      "outputs": [],
      "source": [
        "! pip install geopy > /dev/null\n",
        "! pip install --pre scapy[basic] > /dev/null\n",
        "! pip install pythonping > /dev/null\n",
        "! apt-get install curl > /dev/null"
      ]
    },
    {
      "cell_type": "code",
      "execution_count": null,
      "metadata": {
        "id": "tKo0v_6Z4dh-"
      },
      "outputs": [],
      "source": [
        "import requests\n",
        "import socket\n",
        "import re\n",
        "import pandas as pd\n",
        "import matplotlib.pyplot as plt\n",
        "import numpy as np\n",
        "from scapy.all import *\n",
        "from statistics import mean"
      ]
    },
    {
      "cell_type": "markdown",
      "metadata": {
        "id": "CO9Oq3CutBKu"
      },
      "source": [
        "## Functions\n",
        "\n",
        "In the following sections are defined the functions used in the rest of the notebook:\n",
        "\n",
        "\n",
        "\n",
        "*   **extract_url**(filename, verbose = False): with this function it is possible to extract urls that uses http as protocol. The input file must be a .txt file since the search is based on **regex**.  \n",
        "*   **get_ip_list**(urls_list, verbose = False): using the socket.gethostbyname(hostname) it is possible to retrieve the list of IP addresses.\n",
        "*   **compute_RTT**(target, n_samples, verbose = False): computes the mean of the RTT based on *n_samples*. The RTT is computed through the elapsed time between an ICMP echo-request and an echo reply.\n",
        "*   **traceroute**(target, verbose = False): this function allows to retrieve the IP address of all the answering routers in the path between source and destination.\n",
        "\n"
      ]
    },
    {
      "cell_type": "code",
      "execution_count": null,
      "metadata": {
        "id": "OcK__s-O4P_Y"
      },
      "outputs": [],
      "source": [
        "def extract_url(filename, verbose = False):\n",
        "\n",
        "    #Given a specific list it finds the\n",
        "    with open(filename, \"r\") as f:\n",
        "        text = f.read()\n",
        "\n",
        "    # With a regex we extract the strings\n",
        "    # 'https://mirror.its.dal.ca/'\n",
        "    # from a generic text\n",
        "    #Regex:\n",
        "    # http(with or without s):// continues with alphanumeric value or a dot\n",
        "    urls = re.findall(r\"https?://[\\w\\.-]*\", text)\n",
        "\n",
        "    if verbose:\n",
        "      print(urls)\n",
        "\n",
        "    extracted_urls = []\n",
        "\n",
        "    for url in urls:\n",
        "        # Then we remove the part http:// and the last part / to get\n",
        "        # 'mirror.csclub.uwaterloo.ca'\n",
        "        # we start from 'https://mirror.csclub.uwaterloo.ca'\n",
        "        # we use split and get ['https', 'mirror.csclub.uwaterloo.ca']\n",
        "        # and we get the second element of the list\n",
        "        extracted_urls.append(url.split(\"://\")[1])\n",
        "\n",
        "    if verbose:\n",
        "      print(extracted_urls)\n",
        "\n",
        "    return extracted_urls"
      ]
    },
    {
      "cell_type": "code",
      "execution_count": null,
      "metadata": {
        "id": "jWY0wzsWLKE8"
      },
      "outputs": [],
      "source": [
        "def get_ip_list(urls_list, verbose = False):\n",
        "\n",
        "  ip_list = []\n",
        "  for url in urls_list:\n",
        "    try:\n",
        "\n",
        "      # Using get host by name we retrieve the ip address\n",
        "      # from the url\n",
        "      # if some error occur we add to the list a None value\n",
        "      # in order to remove it later\n",
        "      ip_add = socket.gethostbyname(url)\n",
        "      ip_list.append(ip_add)\n",
        "\n",
        "      if verbose:\n",
        "        print(ip_add)\n",
        "    except:\n",
        "      if verbose:\n",
        "        print(\"IP NOT FOUND\")\n",
        "        ip_list.append(None)\n",
        "\n",
        "  return ip_list"
      ]
    },
    {
      "cell_type": "code",
      "execution_count": null,
      "metadata": {
        "id": "TSI0kLgUtcnu"
      },
      "outputs": [],
      "source": [
        "def compute_RTT(target, n_samples, verbose = False):\n",
        "  pck = IP(dst=target)/ICMP()\n",
        "  RTT = []\n",
        "\n",
        "  if verbose:\n",
        "    print(f\"Sending packets to: {target}\", end = \" \")\n",
        "\n",
        "  for i in range(n_samples):\n",
        "\n",
        "    ans, unans = sr(pck,verbose=False, timeout = 1)\n",
        "\n",
        "    if verbose:\n",
        "      # It will print one . for every packet sent\n",
        "      print(f\"{'.'}\", end = \" \")\n",
        "\n",
        "    if ans is not None and len(ans) > 0:\n",
        "      query = ans[0][0]\n",
        "      resp = ans[0][1]\n",
        "\n",
        "      if resp.src == target:\n",
        "\n",
        "        RTT.append((resp.time-query.sent_time)*1000)\n",
        "\n",
        "      else:\n",
        "        print(\"DID not answer since the source is not the target\")\n",
        "        break\n",
        "\n",
        "\n",
        "    else:\n",
        "      # we break and stop asking to the server\n",
        "      # if it is not answering\n",
        "      print(\"DID NOT RECEIVED ANSWER\")\n",
        "      break\n",
        "\n",
        "  if len(RTT) > 0:\n",
        "\n",
        "    if verbose:\n",
        "      print()\n",
        "    return mean(RTT)\n",
        "\n",
        "\n",
        "  # if mean there is no element inside the list it will return 0\n",
        "  # this will be used to filter the data\n",
        "  return 0"
      ]
    },
    {
      "cell_type": "code",
      "execution_count": null,
      "metadata": {
        "id": "ZdLZt_B5trVI"
      },
      "outputs": [],
      "source": [
        "def traceroute(target, verbose = False):\n",
        "\n",
        "  path = []\n",
        "\n",
        "  for ttl in range(1, 64):\n",
        "    pck = IP(dst=target)/ICMP()\n",
        "    pck.ttl = ttl\n",
        "\n",
        "    ans, unans = sr(pck,verbose=False, timeout = 1)\n",
        "\n",
        "    if ans is not None and len(ans) > 0:\n",
        "      query = ans[0][0]\n",
        "      resp = ans[0][1]\n",
        "      path.append(resp.src)\n",
        "\n",
        "      if verbose:\n",
        "        print(f\"Receiving from: {resp.src}\")\n",
        "\n",
        "      if resp.src == target:\n",
        "        break\n",
        "\n",
        "\n",
        "  return path"
      ]
    },
    {
      "cell_type": "markdown",
      "metadata": {
        "id": "X9OBe9Ke4Uok"
      },
      "source": [
        "## Obtaining positions of IP addresses/servers  "
      ]
    },
    {
      "cell_type": "code",
      "execution_count": null,
      "metadata": {
        "colab": {
          "base_uri": "https://localhost:8080/"
        },
        "id": "Yiesygx7Elhg",
        "outputId": "1d1b1a96-8c6b-4dc8-f349-3049adfe3ecf"
      },
      "outputs": [
        {
          "output_type": "stream",
          "name": "stdout",
          "text": [
            "  % Total    % Received % Xferd  Average Speed   Time    Time     Time  Current\n",
            "                                 Dload  Upload   Total   Spent    Left  Speed\n",
            "100 47754    0 47754    0     0  83732      0 --:--:-- --:--:-- --:--:-- 83632\n"
          ]
        }
      ],
      "source": [
        "# Extracting the url list with a terminal command\n",
        "!curl https://www.gnu.org/prep/ftp.html > file_1.txt"
      ]
    },
    {
      "cell_type": "code",
      "execution_count": null,
      "metadata": {
        "colab": {
          "base_uri": "https://localhost:8080/"
        },
        "id": "W7xtqPY8FdeS",
        "outputId": "e68ab66d-68de-40d8-dcb4-f20431478b45"
      },
      "outputs": [
        {
          "output_type": "stream",
          "name": "stdout",
          "text": [
            "  % Total    % Received % Xferd  Average Speed   Time    Time     Time  Current\n",
            "                                 Dload  Upload   Total   Spent    Left  Speed\n",
            "100  103k  100  103k    0     0   198k      0 --:--:-- --:--:-- --:--:--  198k\n"
          ]
        }
      ],
      "source": [
        "# Extracting the url list with a terminal command\n",
        "!curl https://www.debian.org/mirror/list > file_2.txt"
      ]
    },
    {
      "cell_type": "code",
      "execution_count": null,
      "metadata": {
        "id": "sONuPOQT4hHb"
      },
      "outputs": [],
      "source": [
        "\"\"\"\n",
        "HERE IS IT POSSIBLE TO CHANGE THE NAME OF THE FILE\n",
        "\"\"\"\n",
        "urls = extract_url(\"file_2.txt\")\n",
        "\n",
        "addresses = get_ip_list(urls)\n",
        "\n",
        "#Since some ip addresses are the same we have to filter them\n",
        "# In this way we can filter based on the address\n",
        "# when we find the same address the url get overwritten\n",
        "\n",
        "address_url_dict = {addresses[i]:urls[i] for i in range(len(addresses)) if addresses[i] is not None}"
      ]
    },
    {
      "cell_type": "code",
      "execution_count": null,
      "metadata": {
        "colab": {
          "base_uri": "https://localhost:8080/"
        },
        "id": "Z9USHiouwGbR",
        "outputId": "8420d702-18ae-43ae-b3c4-16811e55ade6"
      },
      "outputs": [
        {
          "output_type": "stream",
          "name": "stdout",
          "text": [
            "['www.w3.org', 'search.debian.org', 'bits.debian.org', 'micronews.debian.org', 'planet.debian.org']\n",
            "['104.18.23.19', '194.177.211.202', '130.89.148.77', '130.89.148.77', '151.101.22.132']\n"
          ]
        }
      ],
      "source": [
        "print(urls[:5])\n",
        "print(addresses[:5])"
      ]
    },
    {
      "cell_type": "code",
      "execution_count": null,
      "metadata": {
        "id": "ONTn_0ld4oXT"
      },
      "outputs": [],
      "source": [
        "# we create a dicitonary for inserting position information\n",
        "# in order to get the position information we use a API\n",
        "# ipinfo.io\n",
        "\n",
        "address_pos_dict = {}\n",
        "\n",
        "for address, url in address_url_dict.items():\n",
        "\n",
        "    url = f'https://ipinfo.io/{address}/json'\n",
        "    try:\n",
        "        # Send GET request to the API\n",
        "        response = requests.get(url)\n",
        "\n",
        "        # Check if the request was successful\n",
        "        if response.status_code == 200:\n",
        "            # Parse JSON response\n",
        "            data = response.json()\n",
        "\n",
        "            # the data.get('loc') is a string so we convert it into\n",
        "            # a tuple of floats\n",
        "            position = tuple([float(i) for i in data.get('loc').split(',')])\n",
        "\n",
        "            address_pos_dict[address] = position\n",
        "\n",
        "        else:\n",
        "            print(f\"Error: {response.status_code}\")\n",
        "\n",
        "    except Exception as e:\n",
        "        print(f\"An error occurred: {e}\")"
      ]
    },
    {
      "cell_type": "code",
      "execution_count": null,
      "metadata": {
        "colab": {
          "base_uri": "https://localhost:8080/"
        },
        "id": "v56YR9lC4r53",
        "outputId": "642787fb-3201-4989-e756-124375439882"
      },
      "outputs": [
        {
          "output_type": "stream",
          "name": "stdout",
          "text": [
            "Address: 104.18.23.19    Position: (37.7621, -122.3971)\n",
            "Address: 194.177.211.202    Position: (37.9757, 23.7691)\n",
            "Address: 130.89.148.77    Position: (52.2183, 6.8958)\n",
            "Address: 151.101.22.132    Position: (47.6062, -122.3321)\n",
            "Address: 128.31.0.62    Position: (42.3751, -71.1056)\n",
            "Address: 195.192.210.132    Position: (47.7994, 13.044)\n"
          ]
        }
      ],
      "source": [
        "# Printing the first value to verify correctness\n",
        "count = 0\n",
        "for address, position in address_pos_dict.items():\n",
        "    count += 1\n",
        "    print(f\"Address: {address}    Position: {position}\")\n",
        "\n",
        "    if count >5:\n",
        "      break"
      ]
    },
    {
      "cell_type": "code",
      "execution_count": null,
      "metadata": {
        "id": "reqq3fUW4vKh"
      },
      "outputs": [],
      "source": [
        "# Once we have the position of all the servers for the debian distribution\n",
        "# we can save it in a csv file\n",
        "# to do that we use pandas\n",
        "data = {}\n",
        "data[\"IP\"] = address_pos_dict.keys()\n",
        "data[\"Name\"] = [address_url_dict[address] for address in address_pos_dict.keys()]\n",
        "data[\"Lat\"] = [address_pos_dict[address][0] for address in address_pos_dict.keys()]\n",
        "data[\"Long\"] = [address_pos_dict[address][1] for address in address_pos_dict.keys()]\n",
        "df = pd.DataFrame.from_dict(data)\n",
        "df = df.dropna()"
      ]
    },
    {
      "cell_type": "code",
      "execution_count": null,
      "metadata": {
        "id": "vZ5pQeR7wWrj"
      },
      "outputs": [],
      "source": [
        "# It is possible also to save the resulting CSV file\n",
        "df.to_csv(\"Data.csv\")"
      ]
    },
    {
      "cell_type": "code",
      "execution_count": null,
      "metadata": {
        "colab": {
          "base_uri": "https://localhost:8080/"
        },
        "id": "QK0g0Q_U4w-b",
        "outputId": "e3e72140-960e-412d-a4fb-047051ff4b2c"
      },
      "outputs": [
        {
          "output_type": "execute_result",
          "data": {
            "text/plain": [
              "                IP                  Name      Lat      Long\n",
              "0     104.18.23.19            www.w3.org  37.7621 -122.3971\n",
              "1  194.177.211.202     search.debian.org  37.9757   23.7691\n",
              "2    130.89.148.77  micronews.debian.org  52.2183    6.8958\n",
              "3   151.101.22.132        deb.debian.org  47.6062 -122.3321\n",
              "4      128.31.0.62        www.debian.org  42.3751  -71.1056"
            ],
            "text/html": [
              "\n",
              "  <div id=\"df-9cf969a1-c692-4a80-b036-5636c958e603\" class=\"colab-df-container\">\n",
              "    <div>\n",
              "<style scoped>\n",
              "    .dataframe tbody tr th:only-of-type {\n",
              "        vertical-align: middle;\n",
              "    }\n",
              "\n",
              "    .dataframe tbody tr th {\n",
              "        vertical-align: top;\n",
              "    }\n",
              "\n",
              "    .dataframe thead th {\n",
              "        text-align: right;\n",
              "    }\n",
              "</style>\n",
              "<table border=\"1\" class=\"dataframe\">\n",
              "  <thead>\n",
              "    <tr style=\"text-align: right;\">\n",
              "      <th></th>\n",
              "      <th>IP</th>\n",
              "      <th>Name</th>\n",
              "      <th>Lat</th>\n",
              "      <th>Long</th>\n",
              "    </tr>\n",
              "  </thead>\n",
              "  <tbody>\n",
              "    <tr>\n",
              "      <th>0</th>\n",
              "      <td>104.18.23.19</td>\n",
              "      <td>www.w3.org</td>\n",
              "      <td>37.7621</td>\n",
              "      <td>-122.3971</td>\n",
              "    </tr>\n",
              "    <tr>\n",
              "      <th>1</th>\n",
              "      <td>194.177.211.202</td>\n",
              "      <td>search.debian.org</td>\n",
              "      <td>37.9757</td>\n",
              "      <td>23.7691</td>\n",
              "    </tr>\n",
              "    <tr>\n",
              "      <th>2</th>\n",
              "      <td>130.89.148.77</td>\n",
              "      <td>micronews.debian.org</td>\n",
              "      <td>52.2183</td>\n",
              "      <td>6.8958</td>\n",
              "    </tr>\n",
              "    <tr>\n",
              "      <th>3</th>\n",
              "      <td>151.101.22.132</td>\n",
              "      <td>deb.debian.org</td>\n",
              "      <td>47.6062</td>\n",
              "      <td>-122.3321</td>\n",
              "    </tr>\n",
              "    <tr>\n",
              "      <th>4</th>\n",
              "      <td>128.31.0.62</td>\n",
              "      <td>www.debian.org</td>\n",
              "      <td>42.3751</td>\n",
              "      <td>-71.1056</td>\n",
              "    </tr>\n",
              "  </tbody>\n",
              "</table>\n",
              "</div>\n",
              "    <div class=\"colab-df-buttons\">\n",
              "\n",
              "  <div class=\"colab-df-container\">\n",
              "    <button class=\"colab-df-convert\" onclick=\"convertToInteractive('df-9cf969a1-c692-4a80-b036-5636c958e603')\"\n",
              "            title=\"Convert this dataframe to an interactive table.\"\n",
              "            style=\"display:none;\">\n",
              "\n",
              "  <svg xmlns=\"http://www.w3.org/2000/svg\" height=\"24px\" viewBox=\"0 -960 960 960\">\n",
              "    <path d=\"M120-120v-720h720v720H120Zm60-500h600v-160H180v160Zm220 220h160v-160H400v160Zm0 220h160v-160H400v160ZM180-400h160v-160H180v160Zm440 0h160v-160H620v160ZM180-180h160v-160H180v160Zm440 0h160v-160H620v160Z\"/>\n",
              "  </svg>\n",
              "    </button>\n",
              "\n",
              "  <style>\n",
              "    .colab-df-container {\n",
              "      display:flex;\n",
              "      gap: 12px;\n",
              "    }\n",
              "\n",
              "    .colab-df-convert {\n",
              "      background-color: #E8F0FE;\n",
              "      border: none;\n",
              "      border-radius: 50%;\n",
              "      cursor: pointer;\n",
              "      display: none;\n",
              "      fill: #1967D2;\n",
              "      height: 32px;\n",
              "      padding: 0 0 0 0;\n",
              "      width: 32px;\n",
              "    }\n",
              "\n",
              "    .colab-df-convert:hover {\n",
              "      background-color: #E2EBFA;\n",
              "      box-shadow: 0px 1px 2px rgba(60, 64, 67, 0.3), 0px 1px 3px 1px rgba(60, 64, 67, 0.15);\n",
              "      fill: #174EA6;\n",
              "    }\n",
              "\n",
              "    .colab-df-buttons div {\n",
              "      margin-bottom: 4px;\n",
              "    }\n",
              "\n",
              "    [theme=dark] .colab-df-convert {\n",
              "      background-color: #3B4455;\n",
              "      fill: #D2E3FC;\n",
              "    }\n",
              "\n",
              "    [theme=dark] .colab-df-convert:hover {\n",
              "      background-color: #434B5C;\n",
              "      box-shadow: 0px 1px 3px 1px rgba(0, 0, 0, 0.15);\n",
              "      filter: drop-shadow(0px 1px 2px rgba(0, 0, 0, 0.3));\n",
              "      fill: #FFFFFF;\n",
              "    }\n",
              "  </style>\n",
              "\n",
              "    <script>\n",
              "      const buttonEl =\n",
              "        document.querySelector('#df-9cf969a1-c692-4a80-b036-5636c958e603 button.colab-df-convert');\n",
              "      buttonEl.style.display =\n",
              "        google.colab.kernel.accessAllowed ? 'block' : 'none';\n",
              "\n",
              "      async function convertToInteractive(key) {\n",
              "        const element = document.querySelector('#df-9cf969a1-c692-4a80-b036-5636c958e603');\n",
              "        const dataTable =\n",
              "          await google.colab.kernel.invokeFunction('convertToInteractive',\n",
              "                                                    [key], {});\n",
              "        if (!dataTable) return;\n",
              "\n",
              "        const docLinkHtml = 'Like what you see? Visit the ' +\n",
              "          '<a target=\"_blank\" href=https://colab.research.google.com/notebooks/data_table.ipynb>data table notebook</a>'\n",
              "          + ' to learn more about interactive tables.';\n",
              "        element.innerHTML = '';\n",
              "        dataTable['output_type'] = 'display_data';\n",
              "        await google.colab.output.renderOutput(dataTable, element);\n",
              "        const docLink = document.createElement('div');\n",
              "        docLink.innerHTML = docLinkHtml;\n",
              "        element.appendChild(docLink);\n",
              "      }\n",
              "    </script>\n",
              "  </div>\n",
              "\n",
              "\n",
              "<div id=\"df-4d643961-77dd-44c7-82ca-b11fc957edcd\">\n",
              "  <button class=\"colab-df-quickchart\" onclick=\"quickchart('df-4d643961-77dd-44c7-82ca-b11fc957edcd')\"\n",
              "            title=\"Suggest charts\"\n",
              "            style=\"display:none;\">\n",
              "\n",
              "<svg xmlns=\"http://www.w3.org/2000/svg\" height=\"24px\"viewBox=\"0 0 24 24\"\n",
              "     width=\"24px\">\n",
              "    <g>\n",
              "        <path d=\"M19 3H5c-1.1 0-2 .9-2 2v14c0 1.1.9 2 2 2h14c1.1 0 2-.9 2-2V5c0-1.1-.9-2-2-2zM9 17H7v-7h2v7zm4 0h-2V7h2v10zm4 0h-2v-4h2v4z\"/>\n",
              "    </g>\n",
              "</svg>\n",
              "  </button>\n",
              "\n",
              "<style>\n",
              "  .colab-df-quickchart {\n",
              "      --bg-color: #E8F0FE;\n",
              "      --fill-color: #1967D2;\n",
              "      --hover-bg-color: #E2EBFA;\n",
              "      --hover-fill-color: #174EA6;\n",
              "      --disabled-fill-color: #AAA;\n",
              "      --disabled-bg-color: #DDD;\n",
              "  }\n",
              "\n",
              "  [theme=dark] .colab-df-quickchart {\n",
              "      --bg-color: #3B4455;\n",
              "      --fill-color: #D2E3FC;\n",
              "      --hover-bg-color: #434B5C;\n",
              "      --hover-fill-color: #FFFFFF;\n",
              "      --disabled-bg-color: #3B4455;\n",
              "      --disabled-fill-color: #666;\n",
              "  }\n",
              "\n",
              "  .colab-df-quickchart {\n",
              "    background-color: var(--bg-color);\n",
              "    border: none;\n",
              "    border-radius: 50%;\n",
              "    cursor: pointer;\n",
              "    display: none;\n",
              "    fill: var(--fill-color);\n",
              "    height: 32px;\n",
              "    padding: 0;\n",
              "    width: 32px;\n",
              "  }\n",
              "\n",
              "  .colab-df-quickchart:hover {\n",
              "    background-color: var(--hover-bg-color);\n",
              "    box-shadow: 0 1px 2px rgba(60, 64, 67, 0.3), 0 1px 3px 1px rgba(60, 64, 67, 0.15);\n",
              "    fill: var(--button-hover-fill-color);\n",
              "  }\n",
              "\n",
              "  .colab-df-quickchart-complete:disabled,\n",
              "  .colab-df-quickchart-complete:disabled:hover {\n",
              "    background-color: var(--disabled-bg-color);\n",
              "    fill: var(--disabled-fill-color);\n",
              "    box-shadow: none;\n",
              "  }\n",
              "\n",
              "  .colab-df-spinner {\n",
              "    border: 2px solid var(--fill-color);\n",
              "    border-color: transparent;\n",
              "    border-bottom-color: var(--fill-color);\n",
              "    animation:\n",
              "      spin 1s steps(1) infinite;\n",
              "  }\n",
              "\n",
              "  @keyframes spin {\n",
              "    0% {\n",
              "      border-color: transparent;\n",
              "      border-bottom-color: var(--fill-color);\n",
              "      border-left-color: var(--fill-color);\n",
              "    }\n",
              "    20% {\n",
              "      border-color: transparent;\n",
              "      border-left-color: var(--fill-color);\n",
              "      border-top-color: var(--fill-color);\n",
              "    }\n",
              "    30% {\n",
              "      border-color: transparent;\n",
              "      border-left-color: var(--fill-color);\n",
              "      border-top-color: var(--fill-color);\n",
              "      border-right-color: var(--fill-color);\n",
              "    }\n",
              "    40% {\n",
              "      border-color: transparent;\n",
              "      border-right-color: var(--fill-color);\n",
              "      border-top-color: var(--fill-color);\n",
              "    }\n",
              "    60% {\n",
              "      border-color: transparent;\n",
              "      border-right-color: var(--fill-color);\n",
              "    }\n",
              "    80% {\n",
              "      border-color: transparent;\n",
              "      border-right-color: var(--fill-color);\n",
              "      border-bottom-color: var(--fill-color);\n",
              "    }\n",
              "    90% {\n",
              "      border-color: transparent;\n",
              "      border-bottom-color: var(--fill-color);\n",
              "    }\n",
              "  }\n",
              "</style>\n",
              "\n",
              "  <script>\n",
              "    async function quickchart(key) {\n",
              "      const quickchartButtonEl =\n",
              "        document.querySelector('#' + key + ' button');\n",
              "      quickchartButtonEl.disabled = true;  // To prevent multiple clicks.\n",
              "      quickchartButtonEl.classList.add('colab-df-spinner');\n",
              "      try {\n",
              "        const charts = await google.colab.kernel.invokeFunction(\n",
              "            'suggestCharts', [key], {});\n",
              "      } catch (error) {\n",
              "        console.error('Error during call to suggestCharts:', error);\n",
              "      }\n",
              "      quickchartButtonEl.classList.remove('colab-df-spinner');\n",
              "      quickchartButtonEl.classList.add('colab-df-quickchart-complete');\n",
              "    }\n",
              "    (() => {\n",
              "      let quickchartButtonEl =\n",
              "        document.querySelector('#df-4d643961-77dd-44c7-82ca-b11fc957edcd button');\n",
              "      quickchartButtonEl.style.display =\n",
              "        google.colab.kernel.accessAllowed ? 'block' : 'none';\n",
              "    })();\n",
              "  </script>\n",
              "</div>\n",
              "    </div>\n",
              "  </div>\n"
            ],
            "application/vnd.google.colaboratory.intrinsic+json": {
              "type": "dataframe",
              "variable_name": "df",
              "summary": "{\n  \"name\": \"df\",\n  \"rows\": 308,\n  \"fields\": [\n    {\n      \"column\": \"IP\",\n      \"properties\": {\n        \"dtype\": \"string\",\n        \"num_unique_values\": 308,\n        \"samples\": [\n          \"76.252.192.212\",\n          \"82.209.230.71\",\n          \"212.50.0.19\"\n        ],\n        \"semantic_type\": \"\",\n        \"description\": \"\"\n      }\n    },\n    {\n      \"column\": \"Name\",\n      \"properties\": {\n        \"dtype\": \"string\",\n        \"num_unique_values\": 308,\n        \"samples\": [\n          \"mirror.rustytel.net\",\n          \"ftp.byfly.by\",\n          \"debian.a1.bg\"\n        ],\n        \"semantic_type\": \"\",\n        \"description\": \"\"\n      }\n    },\n    {\n      \"column\": \"Lat\",\n      \"properties\": {\n        \"dtype\": \"number\",\n        \"std\": 23.58387429801213,\n        \"min\": -45.8742,\n        \"max\": 64.0671,\n        \"num_unique_values\": 205,\n        \"samples\": [\n          45.8144,\n          53.9,\n          49.0151\n        ],\n        \"semantic_type\": \"\",\n        \"description\": \"\"\n      }\n    },\n    {\n      \"column\": \"Long\",\n      \"properties\": {\n        \"dtype\": \"number\",\n        \"std\": 65.85047180414492,\n        \"min\": -123.262,\n        \"max\": 174.7635,\n        \"num_unique_values\": 205,\n        \"samples\": [\n          15.978,\n          27.5667,\n          12.1016\n        ],\n        \"semantic_type\": \"\",\n        \"description\": \"\"\n      }\n    }\n  ]\n}"
            }
          },
          "metadata": {},
          "execution_count": 15
        }
      ],
      "source": [
        "df.head()"
      ]
    },
    {
      "cell_type": "markdown",
      "metadata": {
        "id": "87qEStGy55x5"
      },
      "source": [
        "## How to get your position (colab or local)\n",
        "\n",
        "To get the position of your server inside google colab you can use the following code. This will work even by executing the"
      ]
    },
    {
      "cell_type": "code",
      "execution_count": null,
      "metadata": {
        "colab": {
          "base_uri": "https://localhost:8080/"
        },
        "id": "L-eChTtI-nJr",
        "outputId": "97d9dfa7-07e8-4e1a-97f9-dbcef6b5a8c8"
      },
      "outputs": [
        {
          "output_type": "stream",
          "name": "stdout",
          "text": [
            "My IP is:34.127.75.187\n",
            "My city is: The Dalles\n",
            "My country is: United States\n",
            "My latitude is: 45.5945\n",
            "My longitude is -121.1786\n"
          ]
        }
      ],
      "source": [
        "import urllib.request\n",
        "import json\n",
        "\n",
        "api='https://api.ipify.org'\n",
        "\n",
        "ip=urllib.request.urlopen(api).read().decode('UTF-8')\n",
        "\n",
        "print(f'My IP is:{ip}')\n",
        "\n",
        "info = json.loads(urllib.request.urlopen('http://ip-api.com/json/'+ip).read())\n",
        "#print(info)\n",
        "print(f'My city is: {info[\"city\"]}')\n",
        "print(f'My country is: {info[\"country\"]}')\n",
        "print(f\"My latitude is: {info['lat']}\")\n",
        "print(f\"My longitude is {info['lon']}\")"
      ]
    },
    {
      "cell_type": "code",
      "execution_count": null,
      "metadata": {
        "colab": {
          "base_uri": "https://localhost:8080/"
        },
        "id": "WSzt_OZBVM8m",
        "outputId": "048ce838-ce16-4f86-f86c-c64292581caa"
      },
      "outputs": [
        {
          "output_type": "stream",
          "name": "stdout",
          "text": [
            "{\"ip\":\"34.127.75.187\"}"
          ]
        }
      ],
      "source": [
        "! curl 'https://api.ipify.org?format=json'"
      ]
    },
    {
      "cell_type": "code",
      "execution_count": null,
      "metadata": {
        "colab": {
          "base_uri": "https://localhost:8080/"
        },
        "id": "xJJ2QoTC_AQE",
        "outputId": "38ab4b1f-85e0-4d9d-a661-7342dcd74e58"
      },
      "outputs": [
        {
          "output_type": "stream",
          "name": "stdout",
          "text": [
            "(45.5945, -121.1786)\n"
          ]
        }
      ],
      "source": [
        "my_position = (info['lat'], info['lon'])\n",
        "print(my_position)"
      ]
    },
    {
      "cell_type": "markdown",
      "metadata": {
        "id": "2BjJw9XE-atS"
      },
      "source": [
        "## How to get your precise position (local)\n",
        "You could also get your exact position using an open source geocoding software which can be used through **geopy** library :**Nominatim**.\n",
        "\n",
        "In this way we can insert our position more precisely."
      ]
    },
    {
      "cell_type": "code",
      "execution_count": null,
      "metadata": {
        "id": "GnW1otUVBCDi"
      },
      "outputs": [],
      "source": [
        "from geopy.geocoders import Nominatim"
      ]
    },
    {
      "cell_type": "code",
      "execution_count": null,
      "metadata": {
        "id": "UAwsaxmm8r5f"
      },
      "outputs": [],
      "source": [
        "geolocator = Nominatim(user_agent = \"Mattia Fiore\")\n",
        "location = geolocator.geocode(\"piazza leonardo da vinci milano\")"
      ]
    },
    {
      "cell_type": "code",
      "execution_count": null,
      "metadata": {
        "colab": {
          "base_uri": "https://localhost:8080/"
        },
        "id": "Ybv7wA4_9hbg",
        "outputId": "48f73a86-5115-427d-9c18-249f43f4b8b4"
      },
      "outputs": [
        {
          "output_type": "stream",
          "name": "stdout",
          "text": [
            "Piazza Leonardo da Vinci, Città Studi, Municipio 3, Milano, Lombardia, Italia\n",
            "Lat: 45.47814205 - Long: 9.224804735660399\n"
          ]
        }
      ],
      "source": [
        "print(location)\n",
        "print(f\"Lat: {location.latitude} - Long: {location.longitude}\")"
      ]
    },
    {
      "cell_type": "code",
      "execution_count": null,
      "metadata": {
        "id": "g5YGRhKPA6Y6"
      },
      "outputs": [],
      "source": [
        "my_position = (location.latitude, location.longitude)"
      ]
    },
    {
      "cell_type": "markdown",
      "metadata": {
        "id": "UdpUGLkSBJDB"
      },
      "source": [
        "## How to compute distances"
      ]
    },
    {
      "cell_type": "code",
      "execution_count": null,
      "metadata": {
        "id": "eQsWgUPVBgdf"
      },
      "outputs": [],
      "source": [
        "from geopy import distance"
      ]
    },
    {
      "cell_type": "code",
      "execution_count": null,
      "metadata": {
        "colab": {
          "base_uri": "https://localhost:8080/"
        },
        "id": "9YBSYn0aBW8I",
        "outputId": "1f7cbc72-16ab-4da6-8e1b-60b5cb0526a9"
      },
      "outputs": [
        {
          "output_type": "execute_result",
          "data": {
            "text/plain": [
              "Text(0.5, 0, 'Distance [km]')"
            ]
          },
          "metadata": {},
          "execution_count": 20
        },
        {
          "output_type": "display_data",
          "data": {
            "text/plain": [
              "<Figure size 640x480 with 1 Axes>"
            ],
            "image/png": "[encoded data removed]"
          },
          "metadata": {}
        }
      ],
      "source": [
        "df = pd.read_csv(\"Data.csv\",  index_col=0)\n",
        "df[\"distance\"] = df.apply(lambda row: distance.distance((row[\"Lat\"], row[\"Long\"]), my_position).km , axis=1)\n",
        "df[\"distance\"].plot.hist(bins = 50)\n",
        "\n",
        "plt.xlabel(\"Distance [km]\")"
      ]
    },
    {
      "cell_type": "markdown",
      "metadata": {
        "id": "jXiFLUMDLKiY"
      },
      "source": [
        "## Computing RTT\n",
        "\n",
        "We'll compute the RTT for some of the addresses in the dataset called Data.csv.\n"
      ]
    },
    {
      "cell_type": "code",
      "execution_count": null,
      "metadata": {
        "colab": {
          "base_uri": "https://localhost:8080/"
        },
        "id": "PH_hfpNNLKSh",
        "outputId": "b271016f-0824-4d6d-ab15-2409a1442188"
      },
      "outputs": [
        {
          "output_type": "stream",
          "name": "stdout",
          "text": [
            "Sending packets to: 208.100.4.53 . . . \n",
            "Sending packets to: 142.147.88.7 . . . \n",
            "Sending packets to: 94.154.159.241 . . . \n",
            "Sending packets to: 108.61.5.92 . . . \n",
            "Sending packets to: 184.105.240.111 . . . \n",
            "Sending packets to: 78.142.193.130 . . . \n",
            "Sending packets to: 204.157.3.70 . . . \n",
            "Sending packets to: 129.240.118.47 . . . \n",
            "Sending packets to: 77.120.62.8 . . . \n",
            "Sending packets to: 129.27.3.13 . DID NOT RECEIVED ANSWER\n",
            "Sending packets to: 95.168.211.41 . . . \n",
            "Sending packets to: 185.248.160.60 . . . \n",
            "Sending packets to: 185.100.87.86 . . . \n",
            "Sending packets to: 195.234.45.114 . . . \n",
            "Sending packets to: 128.135.10.29 . . . \n",
            "Sending packets to: 40.64.88.253 . . . \n",
            "Sending packets to: 210.28.130.3 . . . \n",
            "Sending packets to: 95.128.34.165 . DID not answer since the source is not the target\n",
            "Sending packets to: 216.127.35.166 . DID NOT RECEIVED ANSWER\n",
            "Sending packets to: 133.5.166.3 . DID NOT RECEIVED ANSWER\n",
            "Sending packets to: 77.247.64.34 . . . \n",
            "Sending packets to: 193.136.216.34 . DID NOT RECEIVED ANSWER\n",
            "Sending packets to: 134.169.192.5 . . . \n",
            "Sending packets to: 78.158.65.70 . . . \n",
            "Sending packets to: 202.28.95.174 . DID NOT RECEIVED ANSWER\n",
            "Sending packets to: 80.64.47.13 . . . \n",
            "Sending packets to: 103.84.224.37 . . . \n",
            "Sending packets to: 158.129.159.169 . DID NOT RECEIVED ANSWER\n",
            "Sending packets to: 212.50.0.19 . . . \n",
            "Sending packets to: 62.133.35.14 . . . \n",
            "Sending packets to: 131.246.123.4 . . . \n",
            "Sending packets to: 193.49.184.24 . . . \n",
            "Sending packets to: 163.7.134.112 . . . \n",
            "Sending packets to: 178.17.160.48 . . . \n",
            "Sending packets to: 144.208.213.156 . . . \n",
            "Sending packets to: 45.125.0.6 . . . \n",
            "Sending packets to: 103.2.186.80 . . . \n",
            "Sending packets to: 147.32.127.196 . . . \n",
            "Sending packets to: 134.109.228.1 . DID NOT RECEIVED ANSWER\n",
            "Sending packets to: 199.223.246.113 . DID NOT RECEIVED ANSWER\n",
            "Sending packets to: 69.166.55.80 . . . \n",
            "Sending packets to: 141.76.2.4 . . . \n",
            "Sending packets to: 193.146.32.81 . DID NOT RECEIVED ANSWER\n",
            "Sending packets to: 130.89.148.77 . . . \n",
            "Sending packets to: 129.97.134.71 . . . \n",
            "Sending packets to: 83.170.94.3 . DID NOT RECEIVED ANSWER\n",
            "Sending packets to: 93.126.105.202 . . . \n",
            "Sending packets to: 162.255.118.133 . . . \n",
            "Sending packets to: 93.93.131.18 . . . \n",
            "Sending packets to: 83.164.133.195 . . . \n"
          ]
        }
      ],
      "source": [
        "\"\"\"\n",
        "Since the number of server can be quite big and the amount of time needed\n",
        "to run the code can be quite high considering that we have to do a number of RTT\n",
        "\"\"\"\n",
        "# If it is set to True the dataframe will be sampled randomly\n",
        "sample = True\n",
        "\n",
        "if sample == True:\n",
        "  # It is possible to change the n_ip in order to increse or the decrease\n",
        "  # the amount of server sampled\n",
        "  n_ip = 50\n",
        "  df = df.sample(n_ip)\n",
        "else:\n",
        "  pass\n",
        "dictionary = {i: 0 for i in df[\"IP\"]}\n",
        "\n",
        "# It is possible to change the number of pings\n",
        "n_ping_per_server = 3\n",
        "\n",
        "for target in dictionary.keys():\n",
        "\n",
        "    dictionary[target] = compute_RTT(target, n_ping_per_server, verbose = True)\n",
        "\n"
      ]
    },
    {
      "cell_type": "code",
      "execution_count": null,
      "metadata": {
        "id": "K5vZ7tIw7Qwm"
      },
      "outputs": [],
      "source": [
        "# adding the RTT to the dataframe\n",
        "df[\"RTT\"] = df.apply(lambda row: dictionary[row[\"IP\"]], axis = 1)"
      ]
    },
    {
      "cell_type": "code",
      "execution_count": null,
      "metadata": {
        "colab": {
          "base_uri": "https://localhost:8080/"
        },
        "id": "CuKArekl7wh0",
        "outputId": "3073ed51-110e-41f7-8092-afc33d5ab21e"
      },
      "outputs": [
        {
          "output_type": "execute_result",
          "data": {
            "text/plain": [
              "                  IP                        Name      Lat      Long  \\\n",
              "294     208.100.4.53        mirror.steadfast.net  41.8721  -87.6578   \n",
              "296     142.147.88.7            mirrors.xtom.com  37.3394 -121.8950   \n",
              "299   94.154.159.241   nyc.mirrors.clouvider.net  40.7185  -74.0025   \n",
              "279      108.61.5.92  debian.mirror.constant.com  40.4993  -74.3990   \n",
              "287  184.105.240.111       mirror.keystealth.org  37.4419 -122.1430   \n",
              "\n",
              "        distance        RTT  \n",
              "294  2711.820820  49.358686  \n",
              "296   918.777689  17.144283  \n",
              "299  3818.985596  58.824301  \n",
              "279  3798.439594  66.885551  \n",
              "287   909.013080  21.929502  "
            ],
            "text/html": [
              "\n",
              "  <div id=\"df-587b0735-dca6-48e8-a16a-488bfcdefec1\" class=\"colab-df-container\">\n",
              "    <div>\n",
              "<style scoped>\n",
              "    .dataframe tbody tr th:only-of-type {\n",
              "        vertical-align: middle;\n",
              "    }\n",
              "\n",
              "    .dataframe tbody tr th {\n",
              "        vertical-align: top;\n",
              "    }\n",
              "\n",
              "    .dataframe thead th {\n",
              "        text-align: right;\n",
              "    }\n",
              "</style>\n",
              "<table border=\"1\" class=\"dataframe\">\n",
              "  <thead>\n",
              "    <tr style=\"text-align: right;\">\n",
              "      <th></th>\n",
              "      <th>IP</th>\n",
              "      <th>Name</th>\n",
              "      <th>Lat</th>\n",
              "      <th>Long</th>\n",
              "      <th>distance</th>\n",
              "      <th>RTT</th>\n",
              "    </tr>\n",
              "  </thead>\n",
              "  <tbody>\n",
              "    <tr>\n",
              "      <th>294</th>\n",
              "      <td>208.100.4.53</td>\n",
              "      <td>mirror.steadfast.net</td>\n",
              "      <td>41.8721</td>\n",
              "      <td>-87.6578</td>\n",
              "      <td>2711.820820</td>\n",
              "      <td>49.358686</td>\n",
              "    </tr>\n",
              "    <tr>\n",
              "      <th>296</th>\n",
              "      <td>142.147.88.7</td>\n",
              "      <td>mirrors.xtom.com</td>\n",
              "      <td>37.3394</td>\n",
              "      <td>-121.8950</td>\n",
              "      <td>918.777689</td>\n",
              "      <td>17.144283</td>\n",
              "    </tr>\n",
              "    <tr>\n",
              "      <th>299</th>\n",
              "      <td>94.154.159.241</td>\n",
              "      <td>nyc.mirrors.clouvider.net</td>\n",
              "      <td>40.7185</td>\n",
              "      <td>-74.0025</td>\n",
              "      <td>3818.985596</td>\n",
              "      <td>58.824301</td>\n",
              "    </tr>\n",
              "    <tr>\n",
              "      <th>279</th>\n",
              "      <td>108.61.5.92</td>\n",
              "      <td>debian.mirror.constant.com</td>\n",
              "      <td>40.4993</td>\n",
              "      <td>-74.3990</td>\n",
              "      <td>3798.439594</td>\n",
              "      <td>66.885551</td>\n",
              "    </tr>\n",
              "    <tr>\n",
              "      <th>287</th>\n",
              "      <td>184.105.240.111</td>\n",
              "      <td>mirror.keystealth.org</td>\n",
              "      <td>37.4419</td>\n",
              "      <td>-122.1430</td>\n",
              "      <td>909.013080</td>\n",
              "      <td>21.929502</td>\n",
              "    </tr>\n",
              "  </tbody>\n",
              "</table>\n",
              "</div>\n",
              "    <div class=\"colab-df-buttons\">\n",
              "\n",
              "  <div class=\"colab-df-container\">\n",
              "    <button class=\"colab-df-convert\" onclick=\"convertToInteractive('df-587b0735-dca6-48e8-a16a-488bfcdefec1')\"\n",
              "            title=\"Convert this dataframe to an interactive table.\"\n",
              "            style=\"display:none;\">\n",
              "\n",
              "  <svg xmlns=\"http://www.w3.org/2000/svg\" height=\"24px\" viewBox=\"0 -960 960 960\">\n",
              "    <path d=\"M120-120v-720h720v720H120Zm60-500h600v-160H180v160Zm220 220h160v-160H400v160Zm0 220h160v-160H400v160ZM180-400h160v-160H180v160Zm440 0h160v-160H620v160ZM180-180h160v-160H180v160Zm440 0h160v-160H620v160Z\"/>\n",
              "  </svg>\n",
              "    </button>\n",
              "\n",
              "  <style>\n",
              "    .colab-df-container {\n",
              "      display:flex;\n",
              "      gap: 12px;\n",
              "    }\n",
              "\n",
              "    .colab-df-convert {\n",
              "      background-color: #E8F0FE;\n",
              "      border: none;\n",
              "      border-radius: 50%;\n",
              "      cursor: pointer;\n",
              "      display: none;\n",
              "      fill: #1967D2;\n",
              "      height: 32px;\n",
              "      padding: 0 0 0 0;\n",
              "      width: 32px;\n",
              "    }\n",
              "\n",
              "    .colab-df-convert:hover {\n",
              "      background-color: #E2EBFA;\n",
              "      box-shadow: 0px 1px 2px rgba(60, 64, 67, 0.3), 0px 1px 3px 1px rgba(60, 64, 67, 0.15);\n",
              "      fill: #174EA6;\n",
              "    }\n",
              "\n",
              "    .colab-df-buttons div {\n",
              "      margin-bottom: 4px;\n",
              "    }\n",
              "\n",
              "    [theme=dark] .colab-df-convert {\n",
              "      background-color: #3B4455;\n",
              "      fill: #D2E3FC;\n",
              "    }\n",
              "\n",
              "    [theme=dark] .colab-df-convert:hover {\n",
              "      background-color: #434B5C;\n",
              "      box-shadow: 0px 1px 3px 1px rgba(0, 0, 0, 0.15);\n",
              "      filter: drop-shadow(0px 1px 2px rgba(0, 0, 0, 0.3));\n",
              "      fill: #FFFFFF;\n",
              "    }\n",
              "  </style>\n",
              "\n",
              "    <script>\n",
              "      const buttonEl =\n",
              "        document.querySelector('#df-587b0735-dca6-48e8-a16a-488bfcdefec1 button.colab-df-convert');\n",
              "      buttonEl.style.display =\n",
              "        google.colab.kernel.accessAllowed ? 'block' : 'none';\n",
              "\n",
              "      async function convertToInteractive(key) {\n",
              "        const element = document.querySelector('#df-587b0735-dca6-48e8-a16a-488bfcdefec1');\n",
              "        const dataTable =\n",
              "          await google.colab.kernel.invokeFunction('convertToInteractive',\n",
              "                                                    [key], {});\n",
              "        if (!dataTable) return;\n",
              "\n",
              "        const docLinkHtml = 'Like what you see? Visit the ' +\n",
              "          '<a target=\"_blank\" href=https://colab.research.google.com/notebooks/data_table.ipynb>data table notebook</a>'\n",
              "          + ' to learn more about interactive tables.';\n",
              "        element.innerHTML = '';\n",
              "        dataTable['output_type'] = 'display_data';\n",
              "        await google.colab.output.renderOutput(dataTable, element);\n",
              "        const docLink = document.createElement('div');\n",
              "        docLink.innerHTML = docLinkHtml;\n",
              "        element.appendChild(docLink);\n",
              "      }\n",
              "    </script>\n",
              "  </div>\n",
              "\n",
              "\n",
              "<div id=\"df-66036458-c180-4ff0-ba7f-efa1d456d3e8\">\n",
              "  <button class=\"colab-df-quickchart\" onclick=\"quickchart('df-66036458-c180-4ff0-ba7f-efa1d456d3e8')\"\n",
              "            title=\"Suggest charts\"\n",
              "            style=\"display:none;\">\n",
              "\n",
              "<svg xmlns=\"http://www.w3.org/2000/svg\" height=\"24px\"viewBox=\"0 0 24 24\"\n",
              "     width=\"24px\">\n",
              "    <g>\n",
              "        <path d=\"M19 3H5c-1.1 0-2 .9-2 2v14c0 1.1.9 2 2 2h14c1.1 0 2-.9 2-2V5c0-1.1-.9-2-2-2zM9 17H7v-7h2v7zm4 0h-2V7h2v10zm4 0h-2v-4h2v4z\"/>\n",
              "    </g>\n",
              "</svg>\n",
              "  </button>\n",
              "\n",
              "<style>\n",
              "  .colab-df-quickchart {\n",
              "      --bg-color: #E8F0FE;\n",
              "      --fill-color: #1967D2;\n",
              "      --hover-bg-color: #E2EBFA;\n",
              "      --hover-fill-color: #174EA6;\n",
              "      --disabled-fill-color: #AAA;\n",
              "      --disabled-bg-color: #DDD;\n",
              "  }\n",
              "\n",
              "  [theme=dark] .colab-df-quickchart {\n",
              "      --bg-color: #3B4455;\n",
              "      --fill-color: #D2E3FC;\n",
              "      --hover-bg-color: #434B5C;\n",
              "      --hover-fill-color: #FFFFFF;\n",
              "      --disabled-bg-color: #3B4455;\n",
              "      --disabled-fill-color: #666;\n",
              "  }\n",
              "\n",
              "  .colab-df-quickchart {\n",
              "    background-color: var(--bg-color);\n",
              "    border: none;\n",
              "    border-radius: 50%;\n",
              "    cursor: pointer;\n",
              "    display: none;\n",
              "    fill: var(--fill-color);\n",
              "    height: 32px;\n",
              "    padding: 0;\n",
              "    width: 32px;\n",
              "  }\n",
              "\n",
              "  .colab-df-quickchart:hover {\n",
              "    background-color: var(--hover-bg-color);\n",
              "    box-shadow: 0 1px 2px rgba(60, 64, 67, 0.3), 0 1px 3px 1px rgba(60, 64, 67, 0.15);\n",
              "    fill: var(--button-hover-fill-color);\n",
              "  }\n",
              "\n",
              "  .colab-df-quickchart-complete:disabled,\n",
              "  .colab-df-quickchart-complete:disabled:hover {\n",
              "    background-color: var(--disabled-bg-color);\n",
              "    fill: var(--disabled-fill-color);\n",
              "    box-shadow: none;\n",
              "  }\n",
              "\n",
              "  .colab-df-spinner {\n",
              "    border: 2px solid var(--fill-color);\n",
              "    border-color: transparent;\n",
              "    border-bottom-color: var(--fill-color);\n",
              "    animation:\n",
              "      spin 1s steps(1) infinite;\n",
              "  }\n",
              "\n",
              "  @keyframes spin {\n",
              "    0% {\n",
              "      border-color: transparent;\n",
              "      border-bottom-color: var(--fill-color);\n",
              "      border-left-color: var(--fill-color);\n",
              "    }\n",
              "    20% {\n",
              "      border-color: transparent;\n",
              "      border-left-color: var(--fill-color);\n",
              "      border-top-color: var(--fill-color);\n",
              "    }\n",
              "    30% {\n",
              "      border-color: transparent;\n",
              "      border-left-color: var(--fill-color);\n",
              "      border-top-color: var(--fill-color);\n",
              "      border-right-color: var(--fill-color);\n",
              "    }\n",
              "    40% {\n",
              "      border-color: transparent;\n",
              "      border-right-color: var(--fill-color);\n",
              "      border-top-color: var(--fill-color);\n",
              "    }\n",
              "    60% {\n",
              "      border-color: transparent;\n",
              "      border-right-color: var(--fill-color);\n",
              "    }\n",
              "    80% {\n",
              "      border-color: transparent;\n",
              "      border-right-color: var(--fill-color);\n",
              "      border-bottom-color: var(--fill-color);\n",
              "    }\n",
              "    90% {\n",
              "      border-color: transparent;\n",
              "      border-bottom-color: var(--fill-color);\n",
              "    }\n",
              "  }\n",
              "</style>\n",
              "\n",
              "  <script>\n",
              "    async function quickchart(key) {\n",
              "      const quickchartButtonEl =\n",
              "        document.querySelector('#' + key + ' button');\n",
              "      quickchartButtonEl.disabled = true;  // To prevent multiple clicks.\n",
              "      quickchartButtonEl.classList.add('colab-df-spinner');\n",
              "      try {\n",
              "        const charts = await google.colab.kernel.invokeFunction(\n",
              "            'suggestCharts', [key], {});\n",
              "      } catch (error) {\n",
              "        console.error('Error during call to suggestCharts:', error);\n",
              "      }\n",
              "      quickchartButtonEl.classList.remove('colab-df-spinner');\n",
              "      quickchartButtonEl.classList.add('colab-df-quickchart-complete');\n",
              "    }\n",
              "    (() => {\n",
              "      let quickchartButtonEl =\n",
              "        document.querySelector('#df-66036458-c180-4ff0-ba7f-efa1d456d3e8 button');\n",
              "      quickchartButtonEl.style.display =\n",
              "        google.colab.kernel.accessAllowed ? 'block' : 'none';\n",
              "    })();\n",
              "  </script>\n",
              "</div>\n",
              "    </div>\n",
              "  </div>\n"
            ],
            "application/vnd.google.colaboratory.intrinsic+json": {
              "type": "dataframe",
              "variable_name": "df",
              "summary": "{\n  \"name\": \"df\",\n  \"rows\": 50,\n  \"fields\": [\n    {\n      \"column\": \"IP\",\n      \"properties\": {\n        \"dtype\": \"string\",\n        \"num_unique_values\": 50,\n        \"samples\": [\n          \"195.234.45.114\",\n          \"199.223.246.113\",\n          \"131.246.123.4\"\n        ],\n        \"semantic_type\": \"\",\n        \"description\": \"\"\n      }\n    },\n    {\n      \"column\": \"Name\",\n      \"properties\": {\n        \"dtype\": \"string\",\n        \"num_unique_values\": 50,\n        \"samples\": [\n          \"mirror.as35701.net\",\n          \"mirror.siena.edu\",\n          \"ftp.uni-kl.de\"\n        ],\n        \"semantic_type\": \"\",\n        \"description\": \"\"\n      }\n    },\n    {\n      \"column\": \"Lat\",\n      \"properties\": {\n        \"dtype\": \"number\",\n        \"std\": 20.149510936761654,\n        \"min\": -36.8485,\n        \"max\": 59.9127,\n        \"num_unique_values\": 47,\n        \"samples\": [\n          42.6975,\n          51.0509,\n          54.6892\n        ],\n        \"semantic_type\": \"\",\n        \"description\": \"\"\n      }\n    },\n    {\n      \"column\": \"Long\",\n      \"properties\": {\n        \"dtype\": \"number\",\n        \"std\": 74.52204127106086,\n        \"min\": -122.3321,\n        \"max\": 174.7635,\n        \"num_unique_values\": 47,\n        \"samples\": [\n          23.3241,\n          13.7383,\n          25.2798\n        ],\n        \"semantic_type\": \"\",\n        \"description\": \"\"\n      }\n    },\n    {\n      \"column\": \"distance\",\n      \"properties\": {\n        \"dtype\": \"number\",\n        \"std\": 3232.8743740700393,\n        \"min\": 224.76823404962315,\n        \"max\": 12680.665470253576,\n        \"num_unique_values\": 47,\n        \"samples\": [\n          9613.388319920105,\n          8455.015371666477,\n          8449.959841141095\n        ],\n        \"semantic_type\": \"\",\n        \"description\": \"\"\n      }\n    },\n    {\n      \"column\": \"RTT\",\n      \"properties\": {\n        \"dtype\": \"number\",\n        \"std\": 70.0734363380855,\n        \"min\": 0.0,\n        \"max\": 230.04961013793945,\n        \"num_unique_values\": 40,\n        \"samples\": [\n          139.68555132548013,\n          230.04961013793945,\n          10.85368792215983\n        ],\n        \"semantic_type\": \"\",\n        \"description\": \"\"\n      }\n    }\n  ]\n}"
            }
          },
          "metadata": {},
          "execution_count": 23
        }
      ],
      "source": [
        "df.head()"
      ]
    },
    {
      "cell_type": "markdown",
      "metadata": {
        "id": "nm1dNNU2sH9R"
      },
      "source": [
        "## Verifying correctness of the ping results"
      ]
    },
    {
      "cell_type": "code",
      "execution_count": null,
      "metadata": {
        "id": "t85PRnEQsFix"
      },
      "outputs": [],
      "source": [
        "! apt-get install iputils-ping > /dev/null"
      ]
    },
    {
      "cell_type": "markdown",
      "metadata": {
        "id": "qdJlOMDHq-TU"
      },
      "source": [
        "This command line was used to verify the correctness of the RTT computation."
      ]
    },
    {
      "cell_type": "code",
      "execution_count": null,
      "metadata": {
        "colab": {
          "base_uri": "https://localhost:8080/"
        },
        "id": "25RkIP3pr9oB",
        "outputId": "2f32fa33-407a-442c-da2c-426ee8607592"
      },
      "outputs": [
        {
          "output_type": "stream",
          "name": "stdout",
          "text": [
            "PING mirror.linux.ro (81.196.9.142) 56(84) bytes of data.\n",
            "64 bytes from mirror.linux.ro (81.196.9.142): icmp_seq=1 ttl=59 time=127 ms\n",
            "64 bytes from mirror.linux.ro (81.196.9.142): icmp_seq=2 ttl=59 time=127 ms\n",
            "64 bytes from mirror.linux.ro (81.196.9.142): icmp_seq=3 ttl=59 time=127 ms\n",
            "64 bytes from mirror.linux.ro (81.196.9.142): icmp_seq=4 ttl=59 time=127 ms\n",
            "\n",
            "--- mirror.linux.ro ping statistics ---\n",
            "4 packets transmitted, 4 received, 0% packet loss, time 3002ms\n",
            "rtt min/avg/max/mdev = 126.762/126.859/127.040/0.106 ms\n"
          ]
        }
      ],
      "source": [
        "!ping mirror.linux.ro"
      ]
    },
    {
      "cell_type": "markdown",
      "metadata": {
        "id": "o6JvP9QasM-c"
      },
      "source": [
        "## Plotting points"
      ]
    },
    {
      "cell_type": "code",
      "execution_count": null,
      "metadata": {
        "id": "hIy6A__L8Fi4"
      },
      "outputs": [],
      "source": [
        "# The function retrieves RTT = 0 if there are no answers\n",
        "# So we just filter the values which are bigger than 0\n",
        "df = df[df[\"RTT\"] > 0]"
      ]
    },
    {
      "cell_type": "markdown",
      "metadata": {
        "id": "mv5hvRu9GCwe"
      },
      "source": [
        "The formula for the RTT should be close to:\n",
        "$$RTT \\simeq 2\\frac{distance}{cn}$$"
      ]
    },
    {
      "cell_type": "code",
      "execution_count": null,
      "metadata": {
        "colab": {
          "base_uri": "https://localhost:8080/"
        },
        "id": "gvWas_vkcOFo",
        "outputId": "d3ef3656-6d1c-49b7-d982-77229eaddbd9"
      },
      "outputs": [
        {
          "output_type": "execute_result",
          "data": {
            "text/plain": [
              "<matplotlib.legend.Legend at 0x7b3b8c275030>"
            ]
          },
          "metadata": {},
          "execution_count": 25
        },
        {
          "output_type": "display_data",
          "data": {
            "text/plain": [
              "<Figure size 640x480 with 1 Axes>"
            ],
            "image/png": "[encoded data removed]"
          },
          "metadata": {}
        }
      ],
      "source": [
        "plt.scatter(df[\"distance\"], df[\"RTT\"] )\n",
        "speed_light_in_fiber = 199_861_638 # [m/s]\n",
        "speed = speed_light_in_fiber / 1_000_000 #[km/ms]\n",
        "max_distance = 20_000 #[km] the maximumn distance between two points\n",
        "\n",
        "plt.stackplot([0, max_distance], [0, 2*(max_distance/speed)], alpha = 0.2, color = \"r\")\n",
        "plt.xlabel(\"Distance [km]\")\n",
        "plt.ylabel(\"RTT [ms]\")\n",
        "plt.title(\"RTT/distance\")\n",
        "plt.ylim(0,400)\n",
        "plt.legend([\"RTT samples\", \"physical limit\"])"
      ]
    },
    {
      "cell_type": "markdown",
      "metadata": {
        "id": "P_FBWntCrt4H"
      },
      "source": [
        "The mean values of RTT cannot be under the redline. Since information cannot travel faster than light. Sometimes it may happen that some points are inside the red region but this is due to the imprecision in the geolocalization."
      ]
    },
    {
      "cell_type": "markdown",
      "metadata": {
        "id": "a0Y0_XOxH9Ev"
      },
      "source": [
        "## Linear Interpolation of data"
      ]
    },
    {
      "cell_type": "code",
      "execution_count": null,
      "metadata": {
        "id": "ke2ipDR7H_nP"
      },
      "outputs": [],
      "source": [
        "interpol = np.polyfit(df[\"distance\"], df[\"RTT\"], deg = 1)"
      ]
    },
    {
      "cell_type": "code",
      "execution_count": null,
      "metadata": {
        "colab": {
          "base_uri": "https://localhost:8080/",
          "height": 490
        },
        "id": "2dJaJuHVKXQK",
        "outputId": "ffd10aa9-72ea-43e1-ef57-3324067e6a0a"
      },
      "outputs": [
        {
          "output_type": "execute_result",
          "data": {
            "text/plain": [
              "<matplotlib.legend.Legend at 0x7b3b8c165990>"
            ]
          },
          "metadata": {},
          "execution_count": 27
        },
        {
          "output_type": "display_data",
          "data": {
            "text/plain": [
              "<Figure size 640x480 with 1 Axes>"
            ],
            "image/png": "[encoded data removed]"
          },
          "metadata": {}
        }
      ],
      "source": [
        "plt.scatter(\n",
        "    df[\"distance\"],\n",
        "    df[\"RTT\"],\n",
        "    color = \"c\")\n",
        "\n",
        "speed_light_in_fiber = 199_861_638 # [m/s]\n",
        "speed = speed_light_in_fiber / 1_000_000 #[km/ms]\n",
        "max_distance = 20_000 #[km] the maximumn distance between two points\n",
        "# we need to convert in km/ms\n",
        "plt.stackplot([0, max_distance], [0, 2*(max_distance/speed)], alpha = 0.2, color = \"r\")\n",
        "plt.plot(np.linspace(0, max_distance, 200), [interpol[1] + interpol[0]*i for i in np.linspace(0, max_distance, 200)])\n",
        "\n",
        "plt.xlabel(\"Distance [km]\")\n",
        "plt.ylabel(\"RTT [ms]\")\n",
        "plt.title(\"RTT/distance\")\n",
        "plt.ylim(0,400)\n",
        "#plt.xlim(0,max(x))\n",
        "plt.legend([\"RTT samples\", \"physical limit\", \"linear interpolation\"])"
      ]
    },
    {
      "cell_type": "markdown",
      "metadata": {
        "id": "4cjxR3c0LjBs"
      },
      "source": [
        "## Higher accuracy distance computation\n",
        "\n",
        "The distance computed by the geopy library is the minimum distance between the two points on Earth.\n",
        "Since the optical connection will surely take different routes than the fastest one, the overall travelled distance will result bigger.\n",
        "\n",
        "For this reason we could also redraw the graph by recomputing the distance with higher accuracy using the **traceroute**.\n",
        "\n",
        "By computing the list of all routers traversed and by computing the distance between each one we can increase the accuracy of the distance travelled by the packet.\n",
        "\n",
        "Of course the accuracy on the computation will depend on the amount of routers that will replay to the ICMP echo request."
      ]
    },
    {
      "cell_type": "code",
      "execution_count": null,
      "metadata": {
        "id": "DYeoJxJg0QE_"
      },
      "outputs": [],
      "source": [
        "list_paths = {i:[] for i in df[\"IP\"]}\n",
        "for address in df[\"IP\"]:\n",
        "\n",
        "\n",
        "  #print(f\"The address is: {address}\")\n",
        "  path = traceroute(address, verbose = False)\n",
        "  # we add the path to the\n",
        "  list_paths[address] = path\n"
      ]
    },
    {
      "cell_type": "code",
      "execution_count": null,
      "metadata": {
        "id": "_L6EJ-iT1eRX"
      },
      "outputs": [],
      "source": [
        "# We add the path to the dataframe\n",
        "df[\"path\"] = df.apply(lambda row: list_paths[row[\"IP\"]], axis = 1)"
      ]
    },
    {
      "cell_type": "code",
      "execution_count": null,
      "metadata": {
        "id": "0QLB78Tx2ed3"
      },
      "outputs": [],
      "source": [
        "# Then we compute the position through the API\n",
        "# This will result in a path of traversed nodes\n",
        "\n",
        "# I use tuples since i cannot use list as keys because\n",
        "# they are immutable\n",
        "list_path_pos = {tuple(i):[] for i in df[\"path\"]}\n",
        "\n",
        "verbose = False\n",
        "\n",
        "for path in df[\"path\"]:\n",
        "\n",
        "    path_pos = []\n",
        "    for address in path:\n",
        "        #print(f\"Address: {address}\")\n",
        "        url = f'https://ipinfo.io/{address}/json'\n",
        "        try:\n",
        "            # Send GET request to the API\n",
        "            response = requests.get(url)\n",
        "\n",
        "            # Check if the request was successful\n",
        "            if response.status_code == 200:\n",
        "                # Parse JSON response\n",
        "                data = response.json()\n",
        "\n",
        "                # the data.get('loc') is a string so we convert it into\n",
        "                # a tuple of floats\n",
        "\n",
        "                position = tuple([float(i) for i in data.get('loc').split(',')])\n",
        "                path_pos.append(position)\n",
        "                #print(f\"Position: {position}\")\n",
        "\n",
        "            else:\n",
        "              if verbose:\n",
        "                print(f\"Error: {response.status_code}\")\n",
        "\n",
        "\n",
        "        except Exception as e:\n",
        "          if verbose:\n",
        "            print(\"Error occurred\")\n",
        "\n",
        "    list_path_pos[tuple(path)] = path_pos"
      ]
    },
    {
      "cell_type": "code",
      "execution_count": null,
      "metadata": {
        "id": "uKerOwNQwEIr"
      },
      "outputs": [],
      "source": [
        "df[\"path_pos\"] = df.apply(lambda row: list_path_pos[tuple(row[\"path\"])], axis = 1)\n"
      ]
    },
    {
      "cell_type": "code",
      "execution_count": null,
      "metadata": {
        "id": "I_KJJo5UwNQp"
      },
      "outputs": [],
      "source": [
        "# You can also do not ran it.\n",
        "df = df[df[\"path_pos\"].apply(lambda row: len(row) > 1)]"
      ]
    },
    {
      "cell_type": "code",
      "execution_count": null,
      "metadata": {
        "id": "Mdoiknfw7cwU",
        "colab": {
          "base_uri": "https://localhost:8080/",
          "height": 206
        },
        "outputId": "18f132b7-9a02-45e3-9734-d99eacb0ea54"
      },
      "outputs": [
        {
          "output_type": "execute_result",
          "data": {
            "text/plain": [
              "                  IP                        Name      Lat      Long  \\\n",
              "294     208.100.4.53        mirror.steadfast.net  41.8721  -87.6578   \n",
              "279      108.61.5.92  debian.mirror.constant.com  40.4993  -74.3990   \n",
              "287  184.105.240.111       mirror.keystealth.org  37.4419 -122.1430   \n",
              "285     204.157.3.70         mirror.cogentco.com  38.8951  -77.0364   \n",
              "257      77.120.62.8            debian.volia.net  50.4547   30.5238   \n",
              "\n",
              "        distance         RTT  \\\n",
              "294  2711.820820   49.358686   \n",
              "279  3798.439594   66.885551   \n",
              "287   909.013080   21.929502   \n",
              "285  3670.158066   84.296862   \n",
              "257  9018.461148  166.615407   \n",
              "\n",
              "                                                  path  \\\n",
              "294  [172.28.0.1, 62.115.132.154, 62.115.126.159, 2...   \n",
              "279  [172.28.0.1, 213.200.112.170, 173.205.45.234, ...   \n",
              "287  [172.28.0.1, 209.85.241.183, 72.52.92.245, 184...   \n",
              "285  [172.28.0.1, 66.249.94.186, 64.86.123.101, 63....   \n",
              "257  [172.28.0.1, 209.85.245.32, 82.144.192.136, 77...   \n",
              "\n",
              "                                              path_pos  \n",
              "294  [(41.85, -87.65), (41.85, -87.65), (41.85, -87...  \n",
              "279  [(40.7143, -74.006), (40.7143, -74.006), (40.4...  \n",
              "287  [(45.5946, -121.1787), (37.3394, -121.895), (3...  \n",
              "285  [(45.5946, -121.1787), (47.6062, -122.3321), (...  \n",
              "257  [(50.4547, 30.5238), (50.4547, 30.5238), (50.4...  "
            ],
            "text/html": [
              "\n",
              "  <div id=\"df-bdcdeb2c-4114-42f8-9daa-d5a76e206bdf\" class=\"colab-df-container\">\n",
              "    <div>\n",
              "<style scoped>\n",
              "    .dataframe tbody tr th:only-of-type {\n",
              "        vertical-align: middle;\n",
              "    }\n",
              "\n",
              "    .dataframe tbody tr th {\n",
              "        vertical-align: top;\n",
              "    }\n",
              "\n",
              "    .dataframe thead th {\n",
              "        text-align: right;\n",
              "    }\n",
              "</style>\n",
              "<table border=\"1\" class=\"dataframe\">\n",
              "  <thead>\n",
              "    <tr style=\"text-align: right;\">\n",
              "      <th></th>\n",
              "      <th>IP</th>\n",
              "      <th>Name</th>\n",
              "      <th>Lat</th>\n",
              "      <th>Long</th>\n",
              "      <th>distance</th>\n",
              "      <th>RTT</th>\n",
              "      <th>path</th>\n",
              "      <th>path_pos</th>\n",
              "    </tr>\n",
              "  </thead>\n",
              "  <tbody>\n",
              "    <tr>\n",
              "      <th>294</th>\n",
              "      <td>208.100.4.53</td>\n",
              "      <td>mirror.steadfast.net</td>\n",
              "      <td>41.8721</td>\n",
              "      <td>-87.6578</td>\n",
              "      <td>2711.820820</td>\n",
              "      <td>49.358686</td>\n",
              "      <td>[172.28.0.1, 62.115.132.154, 62.115.126.159, 2...</td>\n",
              "      <td>[(41.85, -87.65), (41.85, -87.65), (41.85, -87...</td>\n",
              "    </tr>\n",
              "    <tr>\n",
              "      <th>279</th>\n",
              "      <td>108.61.5.92</td>\n",
              "      <td>debian.mirror.constant.com</td>\n",
              "      <td>40.4993</td>\n",
              "      <td>-74.3990</td>\n",
              "      <td>3798.439594</td>\n",
              "      <td>66.885551</td>\n",
              "      <td>[172.28.0.1, 213.200.112.170, 173.205.45.234, ...</td>\n",
              "      <td>[(40.7143, -74.006), (40.7143, -74.006), (40.4...</td>\n",
              "    </tr>\n",
              "    <tr>\n",
              "      <th>287</th>\n",
              "      <td>184.105.240.111</td>\n",
              "      <td>mirror.keystealth.org</td>\n",
              "      <td>37.4419</td>\n",
              "      <td>-122.1430</td>\n",
              "      <td>909.013080</td>\n",
              "      <td>21.929502</td>\n",
              "      <td>[172.28.0.1, 209.85.241.183, 72.52.92.245, 184...</td>\n",
              "      <td>[(45.5946, -121.1787), (37.3394, -121.895), (3...</td>\n",
              "    </tr>\n",
              "    <tr>\n",
              "      <th>285</th>\n",
              "      <td>204.157.3.70</td>\n",
              "      <td>mirror.cogentco.com</td>\n",
              "      <td>38.8951</td>\n",
              "      <td>-77.0364</td>\n",
              "      <td>3670.158066</td>\n",
              "      <td>84.296862</td>\n",
              "      <td>[172.28.0.1, 66.249.94.186, 64.86.123.101, 63....</td>\n",
              "      <td>[(45.5946, -121.1787), (47.6062, -122.3321), (...</td>\n",
              "    </tr>\n",
              "    <tr>\n",
              "      <th>257</th>\n",
              "      <td>77.120.62.8</td>\n",
              "      <td>debian.volia.net</td>\n",
              "      <td>50.4547</td>\n",
              "      <td>30.5238</td>\n",
              "      <td>9018.461148</td>\n",
              "      <td>166.615407</td>\n",
              "      <td>[172.28.0.1, 209.85.245.32, 82.144.192.136, 77...</td>\n",
              "      <td>[(50.4547, 30.5238), (50.4547, 30.5238), (50.4...</td>\n",
              "    </tr>\n",
              "  </tbody>\n",
              "</table>\n",
              "</div>\n",
              "    <div class=\"colab-df-buttons\">\n",
              "\n",
              "  <div class=\"colab-df-container\">\n",
              "    <button class=\"colab-df-convert\" onclick=\"convertToInteractive('df-bdcdeb2c-4114-42f8-9daa-d5a76e206bdf')\"\n",
              "            title=\"Convert this dataframe to an interactive table.\"\n",
              "            style=\"display:none;\">\n",
              "\n",
              "  <svg xmlns=\"http://www.w3.org/2000/svg\" height=\"24px\" viewBox=\"0 -960 960 960\">\n",
              "    <path d=\"M120-120v-720h720v720H120Zm60-500h600v-160H180v160Zm220 220h160v-160H400v160Zm0 220h160v-160H400v160ZM180-400h160v-160H180v160Zm440 0h160v-160H620v160ZM180-180h160v-160H180v160Zm440 0h160v-160H620v160Z\"/>\n",
              "  </svg>\n",
              "    </button>\n",
              "\n",
              "  <style>\n",
              "    .colab-df-container {\n",
              "      display:flex;\n",
              "      gap: 12px;\n",
              "    }\n",
              "\n",
              "    .colab-df-convert {\n",
              "      background-color: #E8F0FE;\n",
              "      border: none;\n",
              "      border-radius: 50%;\n",
              "      cursor: pointer;\n",
              "      display: none;\n",
              "      fill: #1967D2;\n",
              "      height: 32px;\n",
              "      padding: 0 0 0 0;\n",
              "      width: 32px;\n",
              "    }\n",
              "\n",
              "    .colab-df-convert:hover {\n",
              "      background-color: #E2EBFA;\n",
              "      box-shadow: 0px 1px 2px rgba(60, 64, 67, 0.3), 0px 1px 3px 1px rgba(60, 64, 67, 0.15);\n",
              "      fill: #174EA6;\n",
              "    }\n",
              "\n",
              "    .colab-df-buttons div {\n",
              "      margin-bottom: 4px;\n",
              "    }\n",
              "\n",
              "    [theme=dark] .colab-df-convert {\n",
              "      background-color: #3B4455;\n",
              "      fill: #D2E3FC;\n",
              "    }\n",
              "\n",
              "    [theme=dark] .colab-df-convert:hover {\n",
              "      background-color: #434B5C;\n",
              "      box-shadow: 0px 1px 3px 1px rgba(0, 0, 0, 0.15);\n",
              "      filter: drop-shadow(0px 1px 2px rgba(0, 0, 0, 0.3));\n",
              "      fill: #FFFFFF;\n",
              "    }\n",
              "  </style>\n",
              "\n",
              "    <script>\n",
              "      const buttonEl =\n",
              "        document.querySelector('#df-bdcdeb2c-4114-42f8-9daa-d5a76e206bdf button.colab-df-convert');\n",
              "      buttonEl.style.display =\n",
              "        google.colab.kernel.accessAllowed ? 'block' : 'none';\n",
              "\n",
              "      async function convertToInteractive(key) {\n",
              "        const element = document.querySelector('#df-bdcdeb2c-4114-42f8-9daa-d5a76e206bdf');\n",
              "        const dataTable =\n",
              "          await google.colab.kernel.invokeFunction('convertToInteractive',\n",
              "                                                    [key], {});\n",
              "        if (!dataTable) return;\n",
              "\n",
              "        const docLinkHtml = 'Like what you see? Visit the ' +\n",
              "          '<a target=\"_blank\" href=https://colab.research.google.com/notebooks/data_table.ipynb>data table notebook</a>'\n",
              "          + ' to learn more about interactive tables.';\n",
              "        element.innerHTML = '';\n",
              "        dataTable['output_type'] = 'display_data';\n",
              "        await google.colab.output.renderOutput(dataTable, element);\n",
              "        const docLink = document.createElement('div');\n",
              "        docLink.innerHTML = docLinkHtml;\n",
              "        element.appendChild(docLink);\n",
              "      }\n",
              "    </script>\n",
              "  </div>\n",
              "\n",
              "\n",
              "<div id=\"df-8cc2f9df-09b1-4e8b-92e6-cf13851ba4d3\">\n",
              "  <button class=\"colab-df-quickchart\" onclick=\"quickchart('df-8cc2f9df-09b1-4e8b-92e6-cf13851ba4d3')\"\n",
              "            title=\"Suggest charts\"\n",
              "            style=\"display:none;\">\n",
              "\n",
              "<svg xmlns=\"http://www.w3.org/2000/svg\" height=\"24px\"viewBox=\"0 0 24 24\"\n",
              "     width=\"24px\">\n",
              "    <g>\n",
              "        <path d=\"M19 3H5c-1.1 0-2 .9-2 2v14c0 1.1.9 2 2 2h14c1.1 0 2-.9 2-2V5c0-1.1-.9-2-2-2zM9 17H7v-7h2v7zm4 0h-2V7h2v10zm4 0h-2v-4h2v4z\"/>\n",
              "    </g>\n",
              "</svg>\n",
              "  </button>\n",
              "\n",
              "<style>\n",
              "  .colab-df-quickchart {\n",
              "      --bg-color: #E8F0FE;\n",
              "      --fill-color: #1967D2;\n",
              "      --hover-bg-color: #E2EBFA;\n",
              "      --hover-fill-color: #174EA6;\n",
              "      --disabled-fill-color: #AAA;\n",
              "      --disabled-bg-color: #DDD;\n",
              "  }\n",
              "\n",
              "  [theme=dark] .colab-df-quickchart {\n",
              "      --bg-color: #3B4455;\n",
              "      --fill-color: #D2E3FC;\n",
              "      --hover-bg-color: #434B5C;\n",
              "      --hover-fill-color: #FFFFFF;\n",
              "      --disabled-bg-color: #3B4455;\n",
              "      --disabled-fill-color: #666;\n",
              "  }\n",
              "\n",
              "  .colab-df-quickchart {\n",
              "    background-color: var(--bg-color);\n",
              "    border: none;\n",
              "    border-radius: 50%;\n",
              "    cursor: pointer;\n",
              "    display: none;\n",
              "    fill: var(--fill-color);\n",
              "    height: 32px;\n",
              "    padding: 0;\n",
              "    width: 32px;\n",
              "  }\n",
              "\n",
              "  .colab-df-quickchart:hover {\n",
              "    background-color: var(--hover-bg-color);\n",
              "    box-shadow: 0 1px 2px rgba(60, 64, 67, 0.3), 0 1px 3px 1px rgba(60, 64, 67, 0.15);\n",
              "    fill: var(--button-hover-fill-color);\n",
              "  }\n",
              "\n",
              "  .colab-df-quickchart-complete:disabled,\n",
              "  .colab-df-quickchart-complete:disabled:hover {\n",
              "    background-color: var(--disabled-bg-color);\n",
              "    fill: var(--disabled-fill-color);\n",
              "    box-shadow: none;\n",
              "  }\n",
              "\n",
              "  .colab-df-spinner {\n",
              "    border: 2px solid var(--fill-color);\n",
              "    border-color: transparent;\n",
              "    border-bottom-color: var(--fill-color);\n",
              "    animation:\n",
              "      spin 1s steps(1) infinite;\n",
              "  }\n",
              "\n",
              "  @keyframes spin {\n",
              "    0% {\n",
              "      border-color: transparent;\n",
              "      border-bottom-color: var(--fill-color);\n",
              "      border-left-color: var(--fill-color);\n",
              "    }\n",
              "    20% {\n",
              "      border-color: transparent;\n",
              "      border-left-color: var(--fill-color);\n",
              "      border-top-color: var(--fill-color);\n",
              "    }\n",
              "    30% {\n",
              "      border-color: transparent;\n",
              "      border-left-color: var(--fill-color);\n",
              "      border-top-color: var(--fill-color);\n",
              "      border-right-color: var(--fill-color);\n",
              "    }\n",
              "    40% {\n",
              "      border-color: transparent;\n",
              "      border-right-color: var(--fill-color);\n",
              "      border-top-color: var(--fill-color);\n",
              "    }\n",
              "    60% {\n",
              "      border-color: transparent;\n",
              "      border-right-color: var(--fill-color);\n",
              "    }\n",
              "    80% {\n",
              "      border-color: transparent;\n",
              "      border-right-color: var(--fill-color);\n",
              "      border-bottom-color: var(--fill-color);\n",
              "    }\n",
              "    90% {\n",
              "      border-color: transparent;\n",
              "      border-bottom-color: var(--fill-color);\n",
              "    }\n",
              "  }\n",
              "</style>\n",
              "\n",
              "  <script>\n",
              "    async function quickchart(key) {\n",
              "      const quickchartButtonEl =\n",
              "        document.querySelector('#' + key + ' button');\n",
              "      quickchartButtonEl.disabled = true;  // To prevent multiple clicks.\n",
              "      quickchartButtonEl.classList.add('colab-df-spinner');\n",
              "      try {\n",
              "        const charts = await google.colab.kernel.invokeFunction(\n",
              "            'suggestCharts', [key], {});\n",
              "      } catch (error) {\n",
              "        console.error('Error during call to suggestCharts:', error);\n",
              "      }\n",
              "      quickchartButtonEl.classList.remove('colab-df-spinner');\n",
              "      quickchartButtonEl.classList.add('colab-df-quickchart-complete');\n",
              "    }\n",
              "    (() => {\n",
              "      let quickchartButtonEl =\n",
              "        document.querySelector('#df-8cc2f9df-09b1-4e8b-92e6-cf13851ba4d3 button');\n",
              "      quickchartButtonEl.style.display =\n",
              "        google.colab.kernel.accessAllowed ? 'block' : 'none';\n",
              "    })();\n",
              "  </script>\n",
              "</div>\n",
              "    </div>\n",
              "  </div>\n"
            ],
            "application/vnd.google.colaboratory.intrinsic+json": {
              "type": "dataframe",
              "variable_name": "df",
              "summary": "{\n  \"name\": \"df\",\n  \"rows\": 28,\n  \"fields\": [\n    {\n      \"column\": \"IP\",\n      \"properties\": {\n        \"dtype\": \"string\",\n        \"num_unique_values\": 28,\n        \"samples\": [\n          \"128.135.10.29\",\n          \"162.255.118.133\",\n          \"195.234.45.114\"\n        ],\n        \"semantic_type\": \"\",\n        \"description\": \"\"\n      }\n    },\n    {\n      \"column\": \"Name\",\n      \"properties\": {\n        \"dtype\": \"string\",\n        \"num_unique_values\": 28,\n        \"samples\": [\n          \"debian.uchicago.edu\",\n          \"mirrors.namecheap.com\",\n          \"mirror.as35701.net\"\n        ],\n        \"semantic_type\": \"\",\n        \"description\": \"\"\n      }\n    },\n    {\n      \"column\": \"Lat\",\n      \"properties\": {\n        \"dtype\": \"number\",\n        \"std\": 25.16347800014424,\n        \"min\": -36.8485,\n        \"max\": 55.7317,\n        \"num_unique_values\": 26,\n        \"samples\": [\n          50.8505,\n          47.3975,\n          41.8721\n        ],\n        \"semantic_type\": \"\",\n        \"description\": \"\"\n      }\n    },\n    {\n      \"column\": \"Long\",\n      \"properties\": {\n        \"dtype\": \"number\",\n        \"std\": 83.46951022377466,\n        \"min\": -122.143,\n        \"max\": 174.7635,\n        \"num_unique_values\": 26,\n        \"samples\": [\n          4.3488,\n          6.3521,\n          -87.6578\n        ],\n        \"semantic_type\": \"\",\n        \"description\": \"\"\n      }\n    },\n    {\n      \"column\": \"distance\",\n      \"properties\": {\n        \"dtype\": \"number\",\n        \"std\": 3524.4295269189342,\n        \"min\": 224.76823404962315,\n        \"max\": 12680.665470253576,\n        \"num_unique_values\": 26,\n        \"samples\": [\n          8107.84127083976,\n          8504.987201189757,\n          2711.8208197552985\n        ],\n        \"semantic_type\": \"\",\n        \"description\": \"\"\n      }\n    },\n    {\n      \"column\": \"RTT\",\n      \"properties\": {\n        \"dtype\": \"number\",\n        \"std\": 57.09169723331357,\n        \"min\": 10.85368792215983,\n        \"max\": 230.04961013793945,\n        \"num_unique_values\": 28,\n        \"samples\": [\n          49.03038342793783,\n          57.10554122924805,\n          139.6330197652181\n        ],\n        \"semantic_type\": \"\",\n        \"description\": \"\"\n      }\n    },\n    {\n      \"column\": \"path\",\n      \"properties\": {\n        \"dtype\": \"object\",\n        \"semantic_type\": \"\",\n        \"description\": \"\"\n      }\n    },\n    {\n      \"column\": \"path_pos\",\n      \"properties\": {\n        \"dtype\": \"object\",\n        \"semantic_type\": \"\",\n        \"description\": \"\"\n      }\n    }\n  ]\n}"
            }
          },
          "metadata": {},
          "execution_count": 33
        }
      ],
      "source": [
        "df.head()"
      ]
    },
    {
      "cell_type": "code",
      "execution_count": null,
      "metadata": {
        "id": "CSEaVCsu4DIt"
      },
      "outputs": [],
      "source": [
        "import geopy\n",
        "\n",
        "# we recompute the distanace point to point\n",
        "distance_list = []\n",
        "for list_pos in df[\"path_pos\"]:\n",
        "\n",
        "    dist= 0\n",
        "    for i in range(len(list_pos)):\n",
        "\n",
        "        if i == 0:\n",
        "            #we need to add the starting position\n",
        "            dist += geopy.distance.distance(my_position, list_pos[i]).km\n",
        "\n",
        "        else:\n",
        "            dist += geopy.distance.distance(list_pos[i], list_pos[i-1]).km\n",
        "\n",
        "    distance_list.append(dist)\n"
      ]
    },
    {
      "cell_type": "code",
      "execution_count": null,
      "metadata": {
        "id": "BcQh5yOzyI64"
      },
      "outputs": [],
      "source": [
        "df[\"distance_2\"] = distance_list"
      ]
    },
    {
      "cell_type": "code",
      "execution_count": null,
      "metadata": {
        "id": "2NJs0ju6w0nz",
        "colab": {
          "base_uri": "https://localhost:8080/"
        },
        "outputId": "55c6152c-8f35-4885-9ca9-21a127dd830c"
      },
      "outputs": [
        {
          "output_type": "execute_result",
          "data": {
            "text/plain": [
              "(0, 10)"
            ]
          },
          "metadata": {},
          "execution_count": 36
        }
      ],
      "source": [
        "df[\"difference\"] = df[\"distance_2\"] - df[\"distance\"]\n",
        "\n",
        "# This is done to verify that there are no points where the distance\n",
        "# decrese, since it is not possible.\n",
        "df[df[\"difference\"] < 0].shape"
      ]
    },
    {
      "cell_type": "code",
      "source": [
        "df.to_csv(\"Complete_data.csv\")"
      ],
      "metadata": {
        "id": "aV1gQ0PoN560"
      },
      "execution_count": null,
      "outputs": []
    },
    {
      "cell_type": "code",
      "execution_count": null,
      "metadata": {
        "id": "TYRRIabf1V3y",
        "colab": {
          "base_uri": "https://localhost:8080/",
          "height": 206
        },
        "outputId": "d77e1f59-14c6-4fb6-db3b-0213594a9b29"
      },
      "outputs": [
        {
          "output_type": "execute_result",
          "data": {
            "text/plain": [
              "        distance   distance_2         RTT\n",
              "294  2711.820820  2715.816674   49.358686\n",
              "279  3798.439594  3859.849830   66.885551\n",
              "287   909.013080   961.473982   21.929502\n",
              "285  3670.158066  6015.233633   84.296862\n",
              "257  9018.461148  9018.461148  166.615407"
            ],
            "text/html": [
              "\n",
              "  <div id=\"df-9e1db7f3-1aca-43ca-b8eb-9e9054694268\" class=\"colab-df-container\">\n",
              "    <div>\n",
              "<style scoped>\n",
              "    .dataframe tbody tr th:only-of-type {\n",
              "        vertical-align: middle;\n",
              "    }\n",
              "\n",
              "    .dataframe tbody tr th {\n",
              "        vertical-align: top;\n",
              "    }\n",
              "\n",
              "    .dataframe thead th {\n",
              "        text-align: right;\n",
              "    }\n",
              "</style>\n",
              "<table border=\"1\" class=\"dataframe\">\n",
              "  <thead>\n",
              "    <tr style=\"text-align: right;\">\n",
              "      <th></th>\n",
              "      <th>distance</th>\n",
              "      <th>distance_2</th>\n",
              "      <th>RTT</th>\n",
              "    </tr>\n",
              "  </thead>\n",
              "  <tbody>\n",
              "    <tr>\n",
              "      <th>294</th>\n",
              "      <td>2711.820820</td>\n",
              "      <td>2715.816674</td>\n",
              "      <td>49.358686</td>\n",
              "    </tr>\n",
              "    <tr>\n",
              "      <th>279</th>\n",
              "      <td>3798.439594</td>\n",
              "      <td>3859.849830</td>\n",
              "      <td>66.885551</td>\n",
              "    </tr>\n",
              "    <tr>\n",
              "      <th>287</th>\n",
              "      <td>909.013080</td>\n",
              "      <td>961.473982</td>\n",
              "      <td>21.929502</td>\n",
              "    </tr>\n",
              "    <tr>\n",
              "      <th>285</th>\n",
              "      <td>3670.158066</td>\n",
              "      <td>6015.233633</td>\n",
              "      <td>84.296862</td>\n",
              "    </tr>\n",
              "    <tr>\n",
              "      <th>257</th>\n",
              "      <td>9018.461148</td>\n",
              "      <td>9018.461148</td>\n",
              "      <td>166.615407</td>\n",
              "    </tr>\n",
              "  </tbody>\n",
              "</table>\n",
              "</div>\n",
              "    <div class=\"colab-df-buttons\">\n",
              "\n",
              "  <div class=\"colab-df-container\">\n",
              "    <button class=\"colab-df-convert\" onclick=\"convertToInteractive('df-9e1db7f3-1aca-43ca-b8eb-9e9054694268')\"\n",
              "            title=\"Convert this dataframe to an interactive table.\"\n",
              "            style=\"display:none;\">\n",
              "\n",
              "  <svg xmlns=\"http://www.w3.org/2000/svg\" height=\"24px\" viewBox=\"0 -960 960 960\">\n",
              "    <path d=\"M120-120v-720h720v720H120Zm60-500h600v-160H180v160Zm220 220h160v-160H400v160Zm0 220h160v-160H400v160ZM180-400h160v-160H180v160Zm440 0h160v-160H620v160ZM180-180h160v-160H180v160Zm440 0h160v-160H620v160Z\"/>\n",
              "  </svg>\n",
              "    </button>\n",
              "\n",
              "  <style>\n",
              "    .colab-df-container {\n",
              "      display:flex;\n",
              "      gap: 12px;\n",
              "    }\n",
              "\n",
              "    .colab-df-convert {\n",
              "      background-color: #E8F0FE;\n",
              "      border: none;\n",
              "      border-radius: 50%;\n",
              "      cursor: pointer;\n",
              "      display: none;\n",
              "      fill: #1967D2;\n",
              "      height: 32px;\n",
              "      padding: 0 0 0 0;\n",
              "      width: 32px;\n",
              "    }\n",
              "\n",
              "    .colab-df-convert:hover {\n",
              "      background-color: #E2EBFA;\n",
              "      box-shadow: 0px 1px 2px rgba(60, 64, 67, 0.3), 0px 1px 3px 1px rgba(60, 64, 67, 0.15);\n",
              "      fill: #174EA6;\n",
              "    }\n",
              "\n",
              "    .colab-df-buttons div {\n",
              "      margin-bottom: 4px;\n",
              "    }\n",
              "\n",
              "    [theme=dark] .colab-df-convert {\n",
              "      background-color: #3B4455;\n",
              "      fill: #D2E3FC;\n",
              "    }\n",
              "\n",
              "    [theme=dark] .colab-df-convert:hover {\n",
              "      background-color: #434B5C;\n",
              "      box-shadow: 0px 1px 3px 1px rgba(0, 0, 0, 0.15);\n",
              "      filter: drop-shadow(0px 1px 2px rgba(0, 0, 0, 0.3));\n",
              "      fill: #FFFFFF;\n",
              "    }\n",
              "  </style>\n",
              "\n",
              "    <script>\n",
              "      const buttonEl =\n",
              "        document.querySelector('#df-9e1db7f3-1aca-43ca-b8eb-9e9054694268 button.colab-df-convert');\n",
              "      buttonEl.style.display =\n",
              "        google.colab.kernel.accessAllowed ? 'block' : 'none';\n",
              "\n",
              "      async function convertToInteractive(key) {\n",
              "        const element = document.querySelector('#df-9e1db7f3-1aca-43ca-b8eb-9e9054694268');\n",
              "        const dataTable =\n",
              "          await google.colab.kernel.invokeFunction('convertToInteractive',\n",
              "                                                    [key], {});\n",
              "        if (!dataTable) return;\n",
              "\n",
              "        const docLinkHtml = 'Like what you see? Visit the ' +\n",
              "          '<a target=\"_blank\" href=https://colab.research.google.com/notebooks/data_table.ipynb>data table notebook</a>'\n",
              "          + ' to learn more about interactive tables.';\n",
              "        element.innerHTML = '';\n",
              "        dataTable['output_type'] = 'display_data';\n",
              "        await google.colab.output.renderOutput(dataTable, element);\n",
              "        const docLink = document.createElement('div');\n",
              "        docLink.innerHTML = docLinkHtml;\n",
              "        element.appendChild(docLink);\n",
              "      }\n",
              "    </script>\n",
              "  </div>\n",
              "\n",
              "\n",
              "<div id=\"df-51d9858f-b11d-4088-b207-1993b1d4cec1\">\n",
              "  <button class=\"colab-df-quickchart\" onclick=\"quickchart('df-51d9858f-b11d-4088-b207-1993b1d4cec1')\"\n",
              "            title=\"Suggest charts\"\n",
              "            style=\"display:none;\">\n",
              "\n",
              "<svg xmlns=\"http://www.w3.org/2000/svg\" height=\"24px\"viewBox=\"0 0 24 24\"\n",
              "     width=\"24px\">\n",
              "    <g>\n",
              "        <path d=\"M19 3H5c-1.1 0-2 .9-2 2v14c0 1.1.9 2 2 2h14c1.1 0 2-.9 2-2V5c0-1.1-.9-2-2-2zM9 17H7v-7h2v7zm4 0h-2V7h2v10zm4 0h-2v-4h2v4z\"/>\n",
              "    </g>\n",
              "</svg>\n",
              "  </button>\n",
              "\n",
              "<style>\n",
              "  .colab-df-quickchart {\n",
              "      --bg-color: #E8F0FE;\n",
              "      --fill-color: #1967D2;\n",
              "      --hover-bg-color: #E2EBFA;\n",
              "      --hover-fill-color: #174EA6;\n",
              "      --disabled-fill-color: #AAA;\n",
              "      --disabled-bg-color: #DDD;\n",
              "  }\n",
              "\n",
              "  [theme=dark] .colab-df-quickchart {\n",
              "      --bg-color: #3B4455;\n",
              "      --fill-color: #D2E3FC;\n",
              "      --hover-bg-color: #434B5C;\n",
              "      --hover-fill-color: #FFFFFF;\n",
              "      --disabled-bg-color: #3B4455;\n",
              "      --disabled-fill-color: #666;\n",
              "  }\n",
              "\n",
              "  .colab-df-quickchart {\n",
              "    background-color: var(--bg-color);\n",
              "    border: none;\n",
              "    border-radius: 50%;\n",
              "    cursor: pointer;\n",
              "    display: none;\n",
              "    fill: var(--fill-color);\n",
              "    height: 32px;\n",
              "    padding: 0;\n",
              "    width: 32px;\n",
              "  }\n",
              "\n",
              "  .colab-df-quickchart:hover {\n",
              "    background-color: var(--hover-bg-color);\n",
              "    box-shadow: 0 1px 2px rgba(60, 64, 67, 0.3), 0 1px 3px 1px rgba(60, 64, 67, 0.15);\n",
              "    fill: var(--button-hover-fill-color);\n",
              "  }\n",
              "\n",
              "  .colab-df-quickchart-complete:disabled,\n",
              "  .colab-df-quickchart-complete:disabled:hover {\n",
              "    background-color: var(--disabled-bg-color);\n",
              "    fill: var(--disabled-fill-color);\n",
              "    box-shadow: none;\n",
              "  }\n",
              "\n",
              "  .colab-df-spinner {\n",
              "    border: 2px solid var(--fill-color);\n",
              "    border-color: transparent;\n",
              "    border-bottom-color: var(--fill-color);\n",
              "    animation:\n",
              "      spin 1s steps(1) infinite;\n",
              "  }\n",
              "\n",
              "  @keyframes spin {\n",
              "    0% {\n",
              "      border-color: transparent;\n",
              "      border-bottom-color: var(--fill-color);\n",
              "      border-left-color: var(--fill-color);\n",
              "    }\n",
              "    20% {\n",
              "      border-color: transparent;\n",
              "      border-left-color: var(--fill-color);\n",
              "      border-top-color: var(--fill-color);\n",
              "    }\n",
              "    30% {\n",
              "      border-color: transparent;\n",
              "      border-left-color: var(--fill-color);\n",
              "      border-top-color: var(--fill-color);\n",
              "      border-right-color: var(--fill-color);\n",
              "    }\n",
              "    40% {\n",
              "      border-color: transparent;\n",
              "      border-right-color: var(--fill-color);\n",
              "      border-top-color: var(--fill-color);\n",
              "    }\n",
              "    60% {\n",
              "      border-color: transparent;\n",
              "      border-right-color: var(--fill-color);\n",
              "    }\n",
              "    80% {\n",
              "      border-color: transparent;\n",
              "      border-right-color: var(--fill-color);\n",
              "      border-bottom-color: var(--fill-color);\n",
              "    }\n",
              "    90% {\n",
              "      border-color: transparent;\n",
              "      border-bottom-color: var(--fill-color);\n",
              "    }\n",
              "  }\n",
              "</style>\n",
              "\n",
              "  <script>\n",
              "    async function quickchart(key) {\n",
              "      const quickchartButtonEl =\n",
              "        document.querySelector('#' + key + ' button');\n",
              "      quickchartButtonEl.disabled = true;  // To prevent multiple clicks.\n",
              "      quickchartButtonEl.classList.add('colab-df-spinner');\n",
              "      try {\n",
              "        const charts = await google.colab.kernel.invokeFunction(\n",
              "            'suggestCharts', [key], {});\n",
              "      } catch (error) {\n",
              "        console.error('Error during call to suggestCharts:', error);\n",
              "      }\n",
              "      quickchartButtonEl.classList.remove('colab-df-spinner');\n",
              "      quickchartButtonEl.classList.add('colab-df-quickchart-complete');\n",
              "    }\n",
              "    (() => {\n",
              "      let quickchartButtonEl =\n",
              "        document.querySelector('#df-51d9858f-b11d-4088-b207-1993b1d4cec1 button');\n",
              "      quickchartButtonEl.style.display =\n",
              "        google.colab.kernel.accessAllowed ? 'block' : 'none';\n",
              "    })();\n",
              "  </script>\n",
              "</div>\n",
              "    </div>\n",
              "  </div>\n"
            ],
            "application/vnd.google.colaboratory.intrinsic+json": {
              "type": "dataframe",
              "summary": "{\n  \"name\": \"df[[\\\"distance\\\", \\\"distance_2\\\", \\\"RTT\\\"]]\",\n  \"rows\": 5,\n  \"fields\": [\n    {\n      \"column\": \"distance\",\n      \"properties\": {\n        \"dtype\": \"number\",\n        \"std\": 3022.6500030733655,\n        \"min\": 909.0130798536785,\n        \"max\": 9018.46114777436,\n        \"num_unique_values\": 5,\n        \"samples\": [\n          3798.4395941790044,\n          9018.46114777436,\n          909.0130798536785\n        ],\n        \"semantic_type\": \"\",\n        \"description\": \"\"\n      }\n    },\n    {\n      \"column\": \"distance_2\",\n      \"properties\": {\n        \"dtype\": \"number\",\n        \"std\": 3115.5131736874737,\n        \"min\": 961.4739816933333,\n        \"max\": 9018.46114777436,\n        \"num_unique_values\": 5,\n        \"samples\": [\n          3859.849829598062,\n          9018.46114777436,\n          961.4739816933333\n        ],\n        \"semantic_type\": \"\",\n        \"description\": \"\"\n      }\n    },\n    {\n      \"column\": \"RTT\",\n      \"properties\": {\n        \"dtype\": \"number\",\n        \"std\": 54.726433851666386,\n        \"min\": 21.929502487182617,\n        \"max\": 166.61540667215982,\n        \"num_unique_values\": 5,\n        \"samples\": [\n          66.88555081685384,\n          166.61540667215982,\n          21.929502487182617\n        ],\n        \"semantic_type\": \"\",\n        \"description\": \"\"\n      }\n    }\n  ]\n}"
            }
          },
          "metadata": {},
          "execution_count": 38
        }
      ],
      "source": [
        "df[[\"distance\", \"distance_2\", \"RTT\"]].head()"
      ]
    },
    {
      "cell_type": "code",
      "execution_count": null,
      "metadata": {
        "id": "BpLWLTl4-PKQ"
      },
      "outputs": [],
      "source": [
        "interpol = np.polyfit(df[\"distance\"], df[\"RTT\"], deg = 1)\n",
        "interpol2 = np.polyfit(df[\"distance_2\"], df[\"RTT\"], deg = 1)"
      ]
    },
    {
      "cell_type": "code",
      "execution_count": null,
      "metadata": {
        "id": "SlzkkcB86VMY",
        "colab": {
          "base_uri": "https://localhost:8080/",
          "height": 490
        },
        "outputId": "8cf3462c-2269-4426-f98e-3918f2d97cdc"
      },
      "outputs": [
        {
          "output_type": "execute_result",
          "data": {
            "text/plain": [
              "<matplotlib.legend.Legend at 0x7b3b8c006b30>"
            ]
          },
          "metadata": {},
          "execution_count": 40
        },
        {
          "output_type": "display_data",
          "data": {
            "text/plain": [
              "<Figure size 640x480 with 1 Axes>"
            ],
            "image/png": "[encoded data removed]"
          },
          "metadata": {}
        }
      ],
      "source": [
        "plt.scatter(\n",
        "    df[\"distance_2\"],\n",
        "    df[\"RTT\"],\n",
        "    color = \"orange\",\n",
        "    alpha = 0.3)\n",
        "\n",
        "\n",
        "speed_light_in_fiber = 199_861_638 # [m/s]\n",
        "speed = speed_light_in_fiber / 1_000_000 #[km/ms]\n",
        "max_distance = 20_000 #[km] the maximumn distance between two points\n",
        "\n",
        "plt.stackplot([0, max_distance], [0, 2* (max_distance/speed)], alpha = 0.2, color = \"r\")\n",
        "plt.plot(np.linspace(0, max_distance, 200), [interpol2[1] + interpol2[0]*i for i in np.linspace(0, max_distance, 200)])\n",
        "plt.plot(np.linspace(0, max_distance, 200), [interpol[1] + interpol[0]*i for i in np.linspace(0, max_distance, 200)])\n",
        "\n",
        "plt.xlabel(\"Distance [km]\")\n",
        "plt.ylabel(\"RTT [ms]\")\n",
        "plt.title(\"RTT/distance\")\n",
        "plt.ylim(0,400)\n",
        "plt.xlim(0,20_000)\n",
        "plt.legend([\"recomputed_samples\", \"physical limit\", \"recomputed_interpolatin\", \"previous_interpolation\"])"
      ]
    },
    {
      "cell_type": "markdown",
      "metadata": {
        "id": "NPSynCzm_Mmw"
      },
      "source": [
        "## Commenting the results"
      ]
    },
    {
      "cell_type": "markdown",
      "metadata": {
        "id": "7Epk5g7s6FeJ"
      },
      "source": [
        "The interpolation of the RTT measures shows a linear dependence between the distance at which the server is positioned and the RTT. This result is coherent with the theoretical formula.\n",
        "\n",
        "Indeed, if the distance is computed only by considering the sender and the receiver the slope of the line is much bigger than the physical limit one.\n",
        "\n",
        "Instead if we try to compute the distance using the traceroute mechanism we will get a much more accurate measurement of the distance travelled by the packet. This will result in a line with a slope very close to the one of the physical limit.\n",
        "\n",
        "Still it will be bigger since for increasing distances the amount of routers that we are going to traverse will be bigger and this will increase the overall delay.\n",
        "\n"
      ]
    },
    {
      "cell_type": "markdown",
      "metadata": {
        "id": "YFA8kXW5vezn"
      },
      "source": [
        "## Plotting Route"
      ]
    },
    {
      "cell_type": "code",
      "execution_count": null,
      "metadata": {
        "colab": {
          "base_uri": "https://localhost:8080/"
        },
        "id": "SRfSPjrKvtDu",
        "outputId": "4601a26f-95d7-4be1-ebdd-fa9767cee83d"
      },
      "outputs": [
        {
          "output_type": "stream",
          "name": "stdout",
          "text": [
            "Requirement already satisfied: folium in /usr/local/lib/python3.10/dist-packages (0.14.0)\n",
            "Requirement already satisfied: branca>=0.6.0 in /usr/local/lib/python3.10/dist-packages (from folium) (0.7.1)\n",
            "Requirement already satisfied: jinja2>=2.9 in /usr/local/lib/python3.10/dist-packages (from folium) (3.1.3)\n",
            "Requirement already satisfied: numpy in /usr/local/lib/python3.10/dist-packages (from folium) (1.25.2)\n",
            "Requirement already satisfied: requests in /usr/local/lib/python3.10/dist-packages (from folium) (2.31.0)\n",
            "Requirement already satisfied: MarkupSafe>=2.0 in /usr/local/lib/python3.10/dist-packages (from jinja2>=2.9->folium) (2.1.5)\n",
            "Requirement already satisfied: charset-normalizer<4,>=2 in /usr/local/lib/python3.10/dist-packages (from requests->folium) (3.3.2)\n",
            "Requirement already satisfied: idna<4,>=2.5 in /usr/local/lib/python3.10/dist-packages (from requests->folium) (3.6)\n",
            "Requirement already satisfied: urllib3<3,>=1.21.1 in /usr/local/lib/python3.10/dist-packages (from requests->folium) (2.0.7)\n",
            "Requirement already satisfied: certifi>=2017.4.17 in /usr/local/lib/python3.10/dist-packages (from requests->folium) (2024.2.2)\n"
          ]
        }
      ],
      "source": [
        "! pip install folium"
      ]
    },
    {
      "cell_type": "code",
      "execution_count": null,
      "metadata": {
        "id": "DV_OXq-Ovg86"
      },
      "outputs": [],
      "source": [
        "# Taking the row with the biggest difference in distance\n",
        "# between the two computation\n",
        "row = df.loc[df[\"difference\"].idxmax()]"
      ]
    },
    {
      "cell_type": "code",
      "execution_count": null,
      "metadata": {
        "id": "btVuRJCJyBg6"
      },
      "outputs": [],
      "source": [
        "# Or the one with the more hops\n",
        "row = df.loc[df['path_pos'].apply(lambda x: len(x)).idxmax()]"
      ]
    },
    {
      "cell_type": "code",
      "execution_count": null,
      "metadata": {
        "id": "ztGxowULwMGQ"
      },
      "outputs": [],
      "source": [
        "path = [my_position] + list(row[\"path_pos\"])"
      ]
    },
    {
      "cell_type": "code",
      "execution_count": null,
      "metadata": {
        "id": "HREfX5Tvv3l_"
      },
      "outputs": [],
      "source": [
        "import folium\n",
        "\n",
        "mymap = folium.Map()\n",
        "for i in range(len(path)-1):\n",
        "\n",
        "  folium.PolyLine(locations=[path[i], path[i+1]], color='blue').add_to(mymap)\n",
        "\n",
        "mymap.save('map.html')"
      ]
    },
    {
      "cell_type": "code",
      "execution_count": null,
      "metadata": {
        "colab": {
          "base_uri": "https://localhost:8080/",
          "height": 854
        },
        "id": "J7NVsc0Tv9_y",
        "outputId": "0359b9de-c9e0-46f4-a8dd-e98dee1400e6"
      },
      "outputs": [
        {
          "output_type": "execute_result",
          "data": {
            "text/plain": [
              "<folium.folium.Map at 0x7b3b8beea590>"
            ],
            "text/html": [
              "<div style=\"width:100%;\"><div style=\"position:relative;width:100%;height:0;padding-bottom:60%;\"><span style=\"color:#565656\">Make this Notebook Trusted to load map: File -> Trust Notebook</span><iframe srcdoc=\"&lt;!DOCTYPE html&gt;\n",
              "&lt;html&gt;\n",
              "&lt;head&gt;\n",
              "    \n",
              "    &lt;meta http-equiv=&quot;content-type&quot; content=&quot;text/html; charset=UTF-8&quot; /&gt;\n",
              "    \n",
              "        &lt;script&gt;\n",
              "            L_NO_TOUCH = false;\n",
              "            L_DISABLE_3D = false;\n",
              "        &lt;/script&gt;\n",
              "    \n",
              "    &lt;style&gt;html, body {width: 100%;height: 100%;margin: 0;padding: 0;}&lt;/style&gt;\n",
              "    &lt;style&gt;#map {position:absolute;top:0;bottom:0;right:0;left:0;}&lt;/style&gt;\n",
              "    &lt;script src=&quot;https://cdn.jsdelivr.net/npm/leaflet@1.9.3/dist/leaflet.js&quot;&gt;&lt;/script&gt;\n",
              "    &lt;script src=&quot;https://code.jquery.com/jquery-1.12.4.min.js&quot;&gt;&lt;/script&gt;\n",
              "    &lt;script src=&quot;https://cdn.jsdelivr.net/npm/bootstrap@5.2.2/dist/js/bootstrap.bundle.min.js&quot;&gt;&lt;/script&gt;\n",
              "    &lt;script src=&quot;https://cdnjs.cloudflare.com/ajax/libs/Leaflet.awesome-markers/2.0.2/leaflet.awesome-markers.js&quot;&gt;&lt;/script&gt;\n",
              "    &lt;link rel=&quot;stylesheet&quot; href=&quot;https://cdn.jsdelivr.net/npm/leaflet@1.9.3/dist/leaflet.css&quot;/&gt;\n",
              "    &lt;link rel=&quot;stylesheet&quot; href=&quot;https://cdn.jsdelivr.net/npm/bootstrap@5.2.2/dist/css/bootstrap.min.css&quot;/&gt;\n",
              "    &lt;link rel=&quot;stylesheet&quot; href=&quot;https://netdna.bootstrapcdn.com/bootstrap/3.0.0/css/bootstrap.min.css&quot;/&gt;\n",
              "    &lt;link rel=&quot;stylesheet&quot; href=&quot;https://cdn.jsdelivr.net/npm/@fortawesome/fontawesome-free@6.2.0/css/all.min.css&quot;/&gt;\n",
              "    &lt;link rel=&quot;stylesheet&quot; href=&quot;https://cdnjs.cloudflare.com/ajax/libs/Leaflet.awesome-markers/2.0.2/leaflet.awesome-markers.css&quot;/&gt;\n",
              "    &lt;link rel=&quot;stylesheet&quot; href=&quot;https://cdn.jsdelivr.net/gh/python-visualization/folium/folium/templates/leaflet.awesome.rotate.min.css&quot;/&gt;\n",
              "    \n",
              "            &lt;meta name=&quot;viewport&quot; content=&quot;width=device-width,\n",
              "                initial-scale=1.0, maximum-scale=1.0, user-scalable=no&quot; /&gt;\n",
              "            &lt;style&gt;\n",
              "                #map_87c80411c0cb5c36734b6e77849bb393 {\n",
              "                    position: relative;\n",
              "                    width: 100.0%;\n",
              "                    height: 100.0%;\n",
              "                    left: 0.0%;\n",
              "                    top: 0.0%;\n",
              "                }\n",
              "                .leaflet-container { font-size: 1rem; }\n",
              "            &lt;/style&gt;\n",
              "        \n",
              "&lt;/head&gt;\n",
              "&lt;body&gt;\n",
              "    \n",
              "    \n",
              "            &lt;div class=&quot;folium-map&quot; id=&quot;map_87c80411c0cb5c36734b6e77849bb393&quot; &gt;&lt;/div&gt;\n",
              "        \n",
              "&lt;/body&gt;\n",
              "&lt;script&gt;\n",
              "    \n",
              "    \n",
              "            var map_87c80411c0cb5c36734b6e77849bb393 = L.map(\n",
              "                &quot;map_87c80411c0cb5c36734b6e77849bb393&quot;,\n",
              "                {\n",
              "                    center: [0, 0],\n",
              "                    crs: L.CRS.EPSG3857,\n",
              "                    zoom: 1,\n",
              "                    zoomControl: true,\n",
              "                    preferCanvas: false,\n",
              "                }\n",
              "            );\n",
              "\n",
              "            \n",
              "\n",
              "        \n",
              "    \n",
              "            var tile_layer_e6e357e69640934fcb4b1a4f91b65d8c = L.tileLayer(\n",
              "                &quot;https://{s}.tile.openstreetmap.org/{z}/{x}/{y}.png&quot;,\n",
              "                {&quot;attribution&quot;: &quot;Data by \\u0026copy; \\u003ca target=\\&quot;_blank\\&quot; href=\\&quot;http://openstreetmap.org\\&quot;\\u003eOpenStreetMap\\u003c/a\\u003e, under \\u003ca target=\\&quot;_blank\\&quot; href=\\&quot;http://www.openstreetmap.org/copyright\\&quot;\\u003eODbL\\u003c/a\\u003e.&quot;, &quot;detectRetina&quot;: false, &quot;maxNativeZoom&quot;: 18, &quot;maxZoom&quot;: 18, &quot;minZoom&quot;: 0, &quot;noWrap&quot;: false, &quot;opacity&quot;: 1, &quot;subdomains&quot;: &quot;abc&quot;, &quot;tms&quot;: false}\n",
              "            ).addTo(map_87c80411c0cb5c36734b6e77849bb393);\n",
              "        \n",
              "    \n",
              "            var poly_line_76b2f4268279e46490f081f613ecf8aa = L.polyline(\n",
              "                [[45.5945, -121.1786], [45.5946, -121.1787]],\n",
              "                {&quot;bubblingMouseEvents&quot;: true, &quot;color&quot;: &quot;blue&quot;, &quot;dashArray&quot;: null, &quot;dashOffset&quot;: null, &quot;fill&quot;: false, &quot;fillColor&quot;: &quot;blue&quot;, &quot;fillOpacity&quot;: 0.2, &quot;fillRule&quot;: &quot;evenodd&quot;, &quot;lineCap&quot;: &quot;round&quot;, &quot;lineJoin&quot;: &quot;round&quot;, &quot;noClip&quot;: false, &quot;opacity&quot;: 1.0, &quot;smoothFactor&quot;: 1.0, &quot;stroke&quot;: true, &quot;weight&quot;: 3}\n",
              "            ).addTo(map_87c80411c0cb5c36734b6e77849bb393);\n",
              "        \n",
              "    \n",
              "            var poly_line_68c9303d0d8226c5f8b1d79123816796 = L.polyline(\n",
              "                [[45.5946, -121.1787], [47.6062, -122.3321]],\n",
              "                {&quot;bubblingMouseEvents&quot;: true, &quot;color&quot;: &quot;blue&quot;, &quot;dashArray&quot;: null, &quot;dashOffset&quot;: null, &quot;fill&quot;: false, &quot;fillColor&quot;: &quot;blue&quot;, &quot;fillOpacity&quot;: 0.2, &quot;fillRule&quot;: &quot;evenodd&quot;, &quot;lineCap&quot;: &quot;round&quot;, &quot;lineJoin&quot;: &quot;round&quot;, &quot;noClip&quot;: false, &quot;opacity&quot;: 1.0, &quot;smoothFactor&quot;: 1.0, &quot;stroke&quot;: true, &quot;weight&quot;: 3}\n",
              "            ).addTo(map_87c80411c0cb5c36734b6e77849bb393);\n",
              "        \n",
              "    \n",
              "            var poly_line_6e82c862b3480470caa3b727ab3baa17 = L.polyline(\n",
              "                [[47.6062, -122.3321], [34.0522, -118.2437]],\n",
              "                {&quot;bubblingMouseEvents&quot;: true, &quot;color&quot;: &quot;blue&quot;, &quot;dashArray&quot;: null, &quot;dashOffset&quot;: null, &quot;fill&quot;: false, &quot;fillColor&quot;: &quot;blue&quot;, &quot;fillOpacity&quot;: 0.2, &quot;fillRule&quot;: &quot;evenodd&quot;, &quot;lineCap&quot;: &quot;round&quot;, &quot;lineJoin&quot;: &quot;round&quot;, &quot;noClip&quot;: false, &quot;opacity&quot;: 1.0, &quot;smoothFactor&quot;: 1.0, &quot;stroke&quot;: true, &quot;weight&quot;: 3}\n",
              "            ).addTo(map_87c80411c0cb5c36734b6e77849bb393);\n",
              "        \n",
              "    \n",
              "            var poly_line_d6fa48e08bf57de17f60b03b1490d2bf = L.polyline(\n",
              "                [[34.0522, -118.2437], [34.0522, -118.2437]],\n",
              "                {&quot;bubblingMouseEvents&quot;: true, &quot;color&quot;: &quot;blue&quot;, &quot;dashArray&quot;: null, &quot;dashOffset&quot;: null, &quot;fill&quot;: false, &quot;fillColor&quot;: &quot;blue&quot;, &quot;fillOpacity&quot;: 0.2, &quot;fillRule&quot;: &quot;evenodd&quot;, &quot;lineCap&quot;: &quot;round&quot;, &quot;lineJoin&quot;: &quot;round&quot;, &quot;noClip&quot;: false, &quot;opacity&quot;: 1.0, &quot;smoothFactor&quot;: 1.0, &quot;stroke&quot;: true, &quot;weight&quot;: 3}\n",
              "            ).addTo(map_87c80411c0cb5c36734b6e77849bb393);\n",
              "        \n",
              "    \n",
              "            var poly_line_5ac6f58162510e5e429af60dd7325ad6 = L.polyline(\n",
              "                [[34.0522, -118.2437], [34.0522, -118.2437]],\n",
              "                {&quot;bubblingMouseEvents&quot;: true, &quot;color&quot;: &quot;blue&quot;, &quot;dashArray&quot;: null, &quot;dashOffset&quot;: null, &quot;fill&quot;: false, &quot;fillColor&quot;: &quot;blue&quot;, &quot;fillOpacity&quot;: 0.2, &quot;fillRule&quot;: &quot;evenodd&quot;, &quot;lineCap&quot;: &quot;round&quot;, &quot;lineJoin&quot;: &quot;round&quot;, &quot;noClip&quot;: false, &quot;opacity&quot;: 1.0, &quot;smoothFactor&quot;: 1.0, &quot;stroke&quot;: true, &quot;weight&quot;: 3}\n",
              "            ).addTo(map_87c80411c0cb5c36734b6e77849bb393);\n",
              "        \n",
              "    \n",
              "            var poly_line_c36161c87a7c7207a2482f3af7eb23b6 = L.polyline(\n",
              "                [[34.0522, -118.2437], [34.0522, -118.2437]],\n",
              "                {&quot;bubblingMouseEvents&quot;: true, &quot;color&quot;: &quot;blue&quot;, &quot;dashArray&quot;: null, &quot;dashOffset&quot;: null, &quot;fill&quot;: false, &quot;fillColor&quot;: &quot;blue&quot;, &quot;fillOpacity&quot;: 0.2, &quot;fillRule&quot;: &quot;evenodd&quot;, &quot;lineCap&quot;: &quot;round&quot;, &quot;lineJoin&quot;: &quot;round&quot;, &quot;noClip&quot;: false, &quot;opacity&quot;: 1.0, &quot;smoothFactor&quot;: 1.0, &quot;stroke&quot;: true, &quot;weight&quot;: 3}\n",
              "            ).addTo(map_87c80411c0cb5c36734b6e77849bb393);\n",
              "        \n",
              "    \n",
              "            var poly_line_ab020b905166f133c8c2d674f44edf5c = L.polyline(\n",
              "                [[34.0522, -118.2437], [33.4484, -112.074]],\n",
              "                {&quot;bubblingMouseEvents&quot;: true, &quot;color&quot;: &quot;blue&quot;, &quot;dashArray&quot;: null, &quot;dashOffset&quot;: null, &quot;fill&quot;: false, &quot;fillColor&quot;: &quot;blue&quot;, &quot;fillOpacity&quot;: 0.2, &quot;fillRule&quot;: &quot;evenodd&quot;, &quot;lineCap&quot;: &quot;round&quot;, &quot;lineJoin&quot;: &quot;round&quot;, &quot;noClip&quot;: false, &quot;opacity&quot;: 1.0, &quot;smoothFactor&quot;: 1.0, &quot;stroke&quot;: true, &quot;weight&quot;: 3}\n",
              "            ).addTo(map_87c80411c0cb5c36734b6e77849bb393);\n",
              "        \n",
              "    \n",
              "            var poly_line_c0dd960abd8140769a2cbfab623ded32 = L.polyline(\n",
              "                [[33.4484, -112.074], [31.7587, -106.4869]],\n",
              "                {&quot;bubblingMouseEvents&quot;: true, &quot;color&quot;: &quot;blue&quot;, &quot;dashArray&quot;: null, &quot;dashOffset&quot;: null, &quot;fill&quot;: false, &quot;fillColor&quot;: &quot;blue&quot;, &quot;fillOpacity&quot;: 0.2, &quot;fillRule&quot;: &quot;evenodd&quot;, &quot;lineCap&quot;: &quot;round&quot;, &quot;lineJoin&quot;: &quot;round&quot;, &quot;noClip&quot;: false, &quot;opacity&quot;: 1.0, &quot;smoothFactor&quot;: 1.0, &quot;stroke&quot;: true, &quot;weight&quot;: 3}\n",
              "            ).addTo(map_87c80411c0cb5c36734b6e77849bb393);\n",
              "        \n",
              "    \n",
              "            var poly_line_80be4c3a1b9072946ea76f446e5c502d = L.polyline(\n",
              "                [[31.7587, -106.4869], [29.9324, -95.3802]],\n",
              "                {&quot;bubblingMouseEvents&quot;: true, &quot;color&quot;: &quot;blue&quot;, &quot;dashArray&quot;: null, &quot;dashOffset&quot;: null, &quot;fill&quot;: false, &quot;fillColor&quot;: &quot;blue&quot;, &quot;fillOpacity&quot;: 0.2, &quot;fillRule&quot;: &quot;evenodd&quot;, &quot;lineCap&quot;: &quot;round&quot;, &quot;lineJoin&quot;: &quot;round&quot;, &quot;noClip&quot;: false, &quot;opacity&quot;: 1.0, &quot;smoothFactor&quot;: 1.0, &quot;stroke&quot;: true, &quot;weight&quot;: 3}\n",
              "            ).addTo(map_87c80411c0cb5c36734b6e77849bb393);\n",
              "        \n",
              "    \n",
              "            var poly_line_b73bd093684a0da1285104ab5a163760 = L.polyline(\n",
              "                [[29.9324, -95.3802], [33.749, -84.388]],\n",
              "                {&quot;bubblingMouseEvents&quot;: true, &quot;color&quot;: &quot;blue&quot;, &quot;dashArray&quot;: null, &quot;dashOffset&quot;: null, &quot;fill&quot;: false, &quot;fillColor&quot;: &quot;blue&quot;, &quot;fillOpacity&quot;: 0.2, &quot;fillRule&quot;: &quot;evenodd&quot;, &quot;lineCap&quot;: &quot;round&quot;, &quot;lineJoin&quot;: &quot;round&quot;, &quot;noClip&quot;: false, &quot;opacity&quot;: 1.0, &quot;smoothFactor&quot;: 1.0, &quot;stroke&quot;: true, &quot;weight&quot;: 3}\n",
              "            ).addTo(map_87c80411c0cb5c36734b6e77849bb393);\n",
              "        \n",
              "    \n",
              "            var poly_line_69e7fabc85b651ff5fa4a107065dec3c = L.polyline(\n",
              "                [[33.749, -84.388], [39.0437, -77.4875]],\n",
              "                {&quot;bubblingMouseEvents&quot;: true, &quot;color&quot;: &quot;blue&quot;, &quot;dashArray&quot;: null, &quot;dashOffset&quot;: null, &quot;fill&quot;: false, &quot;fillColor&quot;: &quot;blue&quot;, &quot;fillOpacity&quot;: 0.2, &quot;fillRule&quot;: &quot;evenodd&quot;, &quot;lineCap&quot;: &quot;round&quot;, &quot;lineJoin&quot;: &quot;round&quot;, &quot;noClip&quot;: false, &quot;opacity&quot;: 1.0, &quot;smoothFactor&quot;: 1.0, &quot;stroke&quot;: true, &quot;weight&quot;: 3}\n",
              "            ).addTo(map_87c80411c0cb5c36734b6e77849bb393);\n",
              "        \n",
              "    \n",
              "            var poly_line_c2ffdd6d78f48696f79f579372640079 = L.polyline(\n",
              "                [[39.0437, -77.4875], [39.0437, -77.4875]],\n",
              "                {&quot;bubblingMouseEvents&quot;: true, &quot;color&quot;: &quot;blue&quot;, &quot;dashArray&quot;: null, &quot;dashOffset&quot;: null, &quot;fill&quot;: false, &quot;fillColor&quot;: &quot;blue&quot;, &quot;fillOpacity&quot;: 0.2, &quot;fillRule&quot;: &quot;evenodd&quot;, &quot;lineCap&quot;: &quot;round&quot;, &quot;lineJoin&quot;: &quot;round&quot;, &quot;noClip&quot;: false, &quot;opacity&quot;: 1.0, &quot;smoothFactor&quot;: 1.0, &quot;stroke&quot;: true, &quot;weight&quot;: 3}\n",
              "            ).addTo(map_87c80411c0cb5c36734b6e77849bb393);\n",
              "        \n",
              "    \n",
              "            var poly_line_d4b0e522b17386b51d71cd575c9c68c6 = L.polyline(\n",
              "                [[39.0437, -77.4875], [39.0437, -77.4875]],\n",
              "                {&quot;bubblingMouseEvents&quot;: true, &quot;color&quot;: &quot;blue&quot;, &quot;dashArray&quot;: null, &quot;dashOffset&quot;: null, &quot;fill&quot;: false, &quot;fillColor&quot;: &quot;blue&quot;, &quot;fillOpacity&quot;: 0.2, &quot;fillRule&quot;: &quot;evenodd&quot;, &quot;lineCap&quot;: &quot;round&quot;, &quot;lineJoin&quot;: &quot;round&quot;, &quot;noClip&quot;: false, &quot;opacity&quot;: 1.0, &quot;smoothFactor&quot;: 1.0, &quot;stroke&quot;: true, &quot;weight&quot;: 3}\n",
              "            ).addTo(map_87c80411c0cb5c36734b6e77849bb393);\n",
              "        \n",
              "    \n",
              "            var poly_line_3bb63b6ac90965be4ed129bc8d17c0f7 = L.polyline(\n",
              "                [[39.0437, -77.4875], [39.0437, -77.4875]],\n",
              "                {&quot;bubblingMouseEvents&quot;: true, &quot;color&quot;: &quot;blue&quot;, &quot;dashArray&quot;: null, &quot;dashOffset&quot;: null, &quot;fill&quot;: false, &quot;fillColor&quot;: &quot;blue&quot;, &quot;fillOpacity&quot;: 0.2, &quot;fillRule&quot;: &quot;evenodd&quot;, &quot;lineCap&quot;: &quot;round&quot;, &quot;lineJoin&quot;: &quot;round&quot;, &quot;noClip&quot;: false, &quot;opacity&quot;: 1.0, &quot;smoothFactor&quot;: 1.0, &quot;stroke&quot;: true, &quot;weight&quot;: 3}\n",
              "            ).addTo(map_87c80411c0cb5c36734b6e77849bb393);\n",
              "        \n",
              "    \n",
              "            var poly_line_cbf3ae0faadda380d893955693c4e81e = L.polyline(\n",
              "                [[39.0437, -77.4875], [39.0437, -77.4875]],\n",
              "                {&quot;bubblingMouseEvents&quot;: true, &quot;color&quot;: &quot;blue&quot;, &quot;dashArray&quot;: null, &quot;dashOffset&quot;: null, &quot;fill&quot;: false, &quot;fillColor&quot;: &quot;blue&quot;, &quot;fillOpacity&quot;: 0.2, &quot;fillRule&quot;: &quot;evenodd&quot;, &quot;lineCap&quot;: &quot;round&quot;, &quot;lineJoin&quot;: &quot;round&quot;, &quot;noClip&quot;: false, &quot;opacity&quot;: 1.0, &quot;smoothFactor&quot;: 1.0, &quot;stroke&quot;: true, &quot;weight&quot;: 3}\n",
              "            ).addTo(map_87c80411c0cb5c36734b6e77849bb393);\n",
              "        \n",
              "    \n",
              "            var poly_line_5f3cb29eb17180f5c564b17e62420cb1 = L.polyline(\n",
              "                [[39.0437, -77.4875], [38.8951, -77.0364]],\n",
              "                {&quot;bubblingMouseEvents&quot;: true, &quot;color&quot;: &quot;blue&quot;, &quot;dashArray&quot;: null, &quot;dashOffset&quot;: null, &quot;fill&quot;: false, &quot;fillColor&quot;: &quot;blue&quot;, &quot;fillOpacity&quot;: 0.2, &quot;fillRule&quot;: &quot;evenodd&quot;, &quot;lineCap&quot;: &quot;round&quot;, &quot;lineJoin&quot;: &quot;round&quot;, &quot;noClip&quot;: false, &quot;opacity&quot;: 1.0, &quot;smoothFactor&quot;: 1.0, &quot;stroke&quot;: true, &quot;weight&quot;: 3}\n",
              "            ).addTo(map_87c80411c0cb5c36734b6e77849bb393);\n",
              "        \n",
              "&lt;/script&gt;\n",
              "&lt;/html&gt;\" style=\"position:absolute;width:100%;height:100%;left:0;top:0;border:none !important;\" allowfullscreen webkitallowfullscreen mozallowfullscreen></iframe></div></div>"
            ]
          },
          "metadata": {},
          "execution_count": 47
        }
      ],
      "source": [
        "mymap"
      ]
    }
  ],
  "metadata": {
    "colab": {
      "collapsed_sections": [
        "f3-56lclCDTJ",
        "CO9Oq3CutBKu",
        "X9OBe9Ke4Uok",
        "87qEStGy55x5",
        "2BjJw9XE-atS",
        "UdpUGLkSBJDB",
        "jXiFLUMDLKiY",
        "o6JvP9QasM-c"
      ],
      "provenance": []
    },
    "kernelspec": {
      "display_name": "Python 3",
      "name": "python3"
    },
    "language_info": {
      "name": "python"
    }
  },
  "nbformat": 4,
  "nbformat_minor": 0
}